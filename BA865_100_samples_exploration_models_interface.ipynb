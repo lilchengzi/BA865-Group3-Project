{
  "nbformat": 4,
  "nbformat_minor": 0,
  "metadata": {
    "colab": {
      "provenance": [],
      "collapsed_sections": [
        "nEsE6nkATIr0",
        "1h6_YOsCXDk-",
        "W-TBn4kNZ1Dv",
        "e2uKQNFKYUyE",
        "gPwky11_dBv8"
      ],
      "toc_visible": true
    },
    "kernelspec": {
      "name": "python3",
      "display_name": "Python 3"
    },
    "language_info": {
      "name": "python"
    },
    "widgets": {
      "application/vnd.jupyter.widget-state+json": {
        "6eb0e82ba7334a09bddbe92a508db8d0": {
          "model_module": "@jupyter-widgets/controls",
          "model_name": "VBoxModel",
          "model_module_version": "1.5.0",
          "state": {
            "_dom_classes": [],
            "_model_module": "@jupyter-widgets/controls",
            "_model_module_version": "1.5.0",
            "_model_name": "VBoxModel",
            "_view_count": null,
            "_view_module": "@jupyter-widgets/controls",
            "_view_module_version": "1.5.0",
            "_view_name": "VBoxView",
            "box_style": "",
            "children": [
              "IPY_MODEL_06cf759df788444c8a7b5d5ea181f6fe",
              "IPY_MODEL_f24bab014b1b4d48a20d8c8dff04b64a"
            ],
            "layout": "IPY_MODEL_939a3725765446158ddb15695812577e"
          }
        },
        "06cf759df788444c8a7b5d5ea181f6fe": {
          "model_module": "@jupyter-widgets/controls",
          "model_name": "LabelModel",
          "model_module_version": "1.5.0",
          "state": {
            "_dom_classes": [],
            "_model_module": "@jupyter-widgets/controls",
            "_model_module_version": "1.5.0",
            "_model_name": "LabelModel",
            "_view_count": null,
            "_view_module": "@jupyter-widgets/controls",
            "_view_module_version": "1.5.0",
            "_view_name": "LabelView",
            "description": "",
            "description_tooltip": null,
            "layout": "IPY_MODEL_16cafe0cb75e4b90888ec97299fcaaaa",
            "placeholder": "​",
            "style": "IPY_MODEL_068a6992734f483aa9cec2eff3a17fae",
            "value": "0.012 MB of 0.012 MB uploaded\r"
          }
        },
        "f24bab014b1b4d48a20d8c8dff04b64a": {
          "model_module": "@jupyter-widgets/controls",
          "model_name": "FloatProgressModel",
          "model_module_version": "1.5.0",
          "state": {
            "_dom_classes": [],
            "_model_module": "@jupyter-widgets/controls",
            "_model_module_version": "1.5.0",
            "_model_name": "FloatProgressModel",
            "_view_count": null,
            "_view_module": "@jupyter-widgets/controls",
            "_view_module_version": "1.5.0",
            "_view_name": "ProgressView",
            "bar_style": "",
            "description": "",
            "description_tooltip": null,
            "layout": "IPY_MODEL_9e2aee79c89f4d32884d0edf4a4c7a30",
            "max": 1,
            "min": 0,
            "orientation": "horizontal",
            "style": "IPY_MODEL_cae8311aac3a408a8ebafd3c681c4276",
            "value": 1
          }
        },
        "939a3725765446158ddb15695812577e": {
          "model_module": "@jupyter-widgets/base",
          "model_name": "LayoutModel",
          "model_module_version": "1.2.0",
          "state": {
            "_model_module": "@jupyter-widgets/base",
            "_model_module_version": "1.2.0",
            "_model_name": "LayoutModel",
            "_view_count": null,
            "_view_module": "@jupyter-widgets/base",
            "_view_module_version": "1.2.0",
            "_view_name": "LayoutView",
            "align_content": null,
            "align_items": null,
            "align_self": null,
            "border": null,
            "bottom": null,
            "display": null,
            "flex": null,
            "flex_flow": null,
            "grid_area": null,
            "grid_auto_columns": null,
            "grid_auto_flow": null,
            "grid_auto_rows": null,
            "grid_column": null,
            "grid_gap": null,
            "grid_row": null,
            "grid_template_areas": null,
            "grid_template_columns": null,
            "grid_template_rows": null,
            "height": null,
            "justify_content": null,
            "justify_items": null,
            "left": null,
            "margin": null,
            "max_height": null,
            "max_width": null,
            "min_height": null,
            "min_width": null,
            "object_fit": null,
            "object_position": null,
            "order": null,
            "overflow": null,
            "overflow_x": null,
            "overflow_y": null,
            "padding": null,
            "right": null,
            "top": null,
            "visibility": null,
            "width": null
          }
        },
        "16cafe0cb75e4b90888ec97299fcaaaa": {
          "model_module": "@jupyter-widgets/base",
          "model_name": "LayoutModel",
          "model_module_version": "1.2.0",
          "state": {
            "_model_module": "@jupyter-widgets/base",
            "_model_module_version": "1.2.0",
            "_model_name": "LayoutModel",
            "_view_count": null,
            "_view_module": "@jupyter-widgets/base",
            "_view_module_version": "1.2.0",
            "_view_name": "LayoutView",
            "align_content": null,
            "align_items": null,
            "align_self": null,
            "border": null,
            "bottom": null,
            "display": null,
            "flex": null,
            "flex_flow": null,
            "grid_area": null,
            "grid_auto_columns": null,
            "grid_auto_flow": null,
            "grid_auto_rows": null,
            "grid_column": null,
            "grid_gap": null,
            "grid_row": null,
            "grid_template_areas": null,
            "grid_template_columns": null,
            "grid_template_rows": null,
            "height": null,
            "justify_content": null,
            "justify_items": null,
            "left": null,
            "margin": null,
            "max_height": null,
            "max_width": null,
            "min_height": null,
            "min_width": null,
            "object_fit": null,
            "object_position": null,
            "order": null,
            "overflow": null,
            "overflow_x": null,
            "overflow_y": null,
            "padding": null,
            "right": null,
            "top": null,
            "visibility": null,
            "width": null
          }
        },
        "068a6992734f483aa9cec2eff3a17fae": {
          "model_module": "@jupyter-widgets/controls",
          "model_name": "DescriptionStyleModel",
          "model_module_version": "1.5.0",
          "state": {
            "_model_module": "@jupyter-widgets/controls",
            "_model_module_version": "1.5.0",
            "_model_name": "DescriptionStyleModel",
            "_view_count": null,
            "_view_module": "@jupyter-widgets/base",
            "_view_module_version": "1.2.0",
            "_view_name": "StyleView",
            "description_width": ""
          }
        },
        "9e2aee79c89f4d32884d0edf4a4c7a30": {
          "model_module": "@jupyter-widgets/base",
          "model_name": "LayoutModel",
          "model_module_version": "1.2.0",
          "state": {
            "_model_module": "@jupyter-widgets/base",
            "_model_module_version": "1.2.0",
            "_model_name": "LayoutModel",
            "_view_count": null,
            "_view_module": "@jupyter-widgets/base",
            "_view_module_version": "1.2.0",
            "_view_name": "LayoutView",
            "align_content": null,
            "align_items": null,
            "align_self": null,
            "border": null,
            "bottom": null,
            "display": null,
            "flex": null,
            "flex_flow": null,
            "grid_area": null,
            "grid_auto_columns": null,
            "grid_auto_flow": null,
            "grid_auto_rows": null,
            "grid_column": null,
            "grid_gap": null,
            "grid_row": null,
            "grid_template_areas": null,
            "grid_template_columns": null,
            "grid_template_rows": null,
            "height": null,
            "justify_content": null,
            "justify_items": null,
            "left": null,
            "margin": null,
            "max_height": null,
            "max_width": null,
            "min_height": null,
            "min_width": null,
            "object_fit": null,
            "object_position": null,
            "order": null,
            "overflow": null,
            "overflow_x": null,
            "overflow_y": null,
            "padding": null,
            "right": null,
            "top": null,
            "visibility": null,
            "width": null
          }
        },
        "cae8311aac3a408a8ebafd3c681c4276": {
          "model_module": "@jupyter-widgets/controls",
          "model_name": "ProgressStyleModel",
          "model_module_version": "1.5.0",
          "state": {
            "_model_module": "@jupyter-widgets/controls",
            "_model_module_version": "1.5.0",
            "_model_name": "ProgressStyleModel",
            "_view_count": null,
            "_view_module": "@jupyter-widgets/base",
            "_view_module_version": "1.2.0",
            "_view_name": "StyleView",
            "bar_color": null,
            "description_width": ""
          }
        },
        "240ee663b9a7446490f8df68bdb2463c": {
          "model_module": "@jupyter-widgets/controls",
          "model_name": "VBoxModel",
          "model_module_version": "1.5.0",
          "state": {
            "_dom_classes": [],
            "_model_module": "@jupyter-widgets/controls",
            "_model_module_version": "1.5.0",
            "_model_name": "VBoxModel",
            "_view_count": null,
            "_view_module": "@jupyter-widgets/controls",
            "_view_module_version": "1.5.0",
            "_view_name": "VBoxView",
            "box_style": "",
            "children": [
              "IPY_MODEL_7cdf939d0882459f9ba47b95b7586b19",
              "IPY_MODEL_d148dfe5dfbb460eb77d4caa920c2dae"
            ],
            "layout": "IPY_MODEL_a515b5f0406e42b8a062e6bad8d7beb8"
          }
        },
        "7cdf939d0882459f9ba47b95b7586b19": {
          "model_module": "@jupyter-widgets/controls",
          "model_name": "LabelModel",
          "model_module_version": "1.5.0",
          "state": {
            "_dom_classes": [],
            "_model_module": "@jupyter-widgets/controls",
            "_model_module_version": "1.5.0",
            "_model_name": "LabelModel",
            "_view_count": null,
            "_view_module": "@jupyter-widgets/controls",
            "_view_module_version": "1.5.0",
            "_view_name": "LabelView",
            "description": "",
            "description_tooltip": null,
            "layout": "IPY_MODEL_444e915f80f6462498081e64c76c4f02",
            "placeholder": "​",
            "style": "IPY_MODEL_daecf6a4c71143d983d1e1f6fddda09c",
            "value": "14.270 MB of 14.270 MB uploaded\r"
          }
        },
        "d148dfe5dfbb460eb77d4caa920c2dae": {
          "model_module": "@jupyter-widgets/controls",
          "model_name": "FloatProgressModel",
          "model_module_version": "1.5.0",
          "state": {
            "_dom_classes": [],
            "_model_module": "@jupyter-widgets/controls",
            "_model_module_version": "1.5.0",
            "_model_name": "FloatProgressModel",
            "_view_count": null,
            "_view_module": "@jupyter-widgets/controls",
            "_view_module_version": "1.5.0",
            "_view_name": "ProgressView",
            "bar_style": "",
            "description": "",
            "description_tooltip": null,
            "layout": "IPY_MODEL_263104ccfc6e4889aa715eb172e47f8c",
            "max": 1,
            "min": 0,
            "orientation": "horizontal",
            "style": "IPY_MODEL_bb9e7a8ba7834f4284c2ee957d4b7f0f",
            "value": 1
          }
        },
        "a515b5f0406e42b8a062e6bad8d7beb8": {
          "model_module": "@jupyter-widgets/base",
          "model_name": "LayoutModel",
          "model_module_version": "1.2.0",
          "state": {
            "_model_module": "@jupyter-widgets/base",
            "_model_module_version": "1.2.0",
            "_model_name": "LayoutModel",
            "_view_count": null,
            "_view_module": "@jupyter-widgets/base",
            "_view_module_version": "1.2.0",
            "_view_name": "LayoutView",
            "align_content": null,
            "align_items": null,
            "align_self": null,
            "border": null,
            "bottom": null,
            "display": null,
            "flex": null,
            "flex_flow": null,
            "grid_area": null,
            "grid_auto_columns": null,
            "grid_auto_flow": null,
            "grid_auto_rows": null,
            "grid_column": null,
            "grid_gap": null,
            "grid_row": null,
            "grid_template_areas": null,
            "grid_template_columns": null,
            "grid_template_rows": null,
            "height": null,
            "justify_content": null,
            "justify_items": null,
            "left": null,
            "margin": null,
            "max_height": null,
            "max_width": null,
            "min_height": null,
            "min_width": null,
            "object_fit": null,
            "object_position": null,
            "order": null,
            "overflow": null,
            "overflow_x": null,
            "overflow_y": null,
            "padding": null,
            "right": null,
            "top": null,
            "visibility": null,
            "width": null
          }
        },
        "444e915f80f6462498081e64c76c4f02": {
          "model_module": "@jupyter-widgets/base",
          "model_name": "LayoutModel",
          "model_module_version": "1.2.0",
          "state": {
            "_model_module": "@jupyter-widgets/base",
            "_model_module_version": "1.2.0",
            "_model_name": "LayoutModel",
            "_view_count": null,
            "_view_module": "@jupyter-widgets/base",
            "_view_module_version": "1.2.0",
            "_view_name": "LayoutView",
            "align_content": null,
            "align_items": null,
            "align_self": null,
            "border": null,
            "bottom": null,
            "display": null,
            "flex": null,
            "flex_flow": null,
            "grid_area": null,
            "grid_auto_columns": null,
            "grid_auto_flow": null,
            "grid_auto_rows": null,
            "grid_column": null,
            "grid_gap": null,
            "grid_row": null,
            "grid_template_areas": null,
            "grid_template_columns": null,
            "grid_template_rows": null,
            "height": null,
            "justify_content": null,
            "justify_items": null,
            "left": null,
            "margin": null,
            "max_height": null,
            "max_width": null,
            "min_height": null,
            "min_width": null,
            "object_fit": null,
            "object_position": null,
            "order": null,
            "overflow": null,
            "overflow_x": null,
            "overflow_y": null,
            "padding": null,
            "right": null,
            "top": null,
            "visibility": null,
            "width": null
          }
        },
        "daecf6a4c71143d983d1e1f6fddda09c": {
          "model_module": "@jupyter-widgets/controls",
          "model_name": "DescriptionStyleModel",
          "model_module_version": "1.5.0",
          "state": {
            "_model_module": "@jupyter-widgets/controls",
            "_model_module_version": "1.5.0",
            "_model_name": "DescriptionStyleModel",
            "_view_count": null,
            "_view_module": "@jupyter-widgets/base",
            "_view_module_version": "1.2.0",
            "_view_name": "StyleView",
            "description_width": ""
          }
        },
        "263104ccfc6e4889aa715eb172e47f8c": {
          "model_module": "@jupyter-widgets/base",
          "model_name": "LayoutModel",
          "model_module_version": "1.2.0",
          "state": {
            "_model_module": "@jupyter-widgets/base",
            "_model_module_version": "1.2.0",
            "_model_name": "LayoutModel",
            "_view_count": null,
            "_view_module": "@jupyter-widgets/base",
            "_view_module_version": "1.2.0",
            "_view_name": "LayoutView",
            "align_content": null,
            "align_items": null,
            "align_self": null,
            "border": null,
            "bottom": null,
            "display": null,
            "flex": null,
            "flex_flow": null,
            "grid_area": null,
            "grid_auto_columns": null,
            "grid_auto_flow": null,
            "grid_auto_rows": null,
            "grid_column": null,
            "grid_gap": null,
            "grid_row": null,
            "grid_template_areas": null,
            "grid_template_columns": null,
            "grid_template_rows": null,
            "height": null,
            "justify_content": null,
            "justify_items": null,
            "left": null,
            "margin": null,
            "max_height": null,
            "max_width": null,
            "min_height": null,
            "min_width": null,
            "object_fit": null,
            "object_position": null,
            "order": null,
            "overflow": null,
            "overflow_x": null,
            "overflow_y": null,
            "padding": null,
            "right": null,
            "top": null,
            "visibility": null,
            "width": null
          }
        },
        "bb9e7a8ba7834f4284c2ee957d4b7f0f": {
          "model_module": "@jupyter-widgets/controls",
          "model_name": "ProgressStyleModel",
          "model_module_version": "1.5.0",
          "state": {
            "_model_module": "@jupyter-widgets/controls",
            "_model_module_version": "1.5.0",
            "_model_name": "ProgressStyleModel",
            "_view_count": null,
            "_view_module": "@jupyter-widgets/base",
            "_view_module_version": "1.2.0",
            "_view_name": "StyleView",
            "bar_color": null,
            "description_width": ""
          }
        },
        "f13f6105070544a996553152376aac83": {
          "model_module": "@jupyter-widgets/controls",
          "model_name": "VBoxModel",
          "model_module_version": "1.5.0",
          "state": {
            "_dom_classes": [],
            "_model_module": "@jupyter-widgets/controls",
            "_model_module_version": "1.5.0",
            "_model_name": "VBoxModel",
            "_view_count": null,
            "_view_module": "@jupyter-widgets/controls",
            "_view_module_version": "1.5.0",
            "_view_name": "VBoxView",
            "box_style": "",
            "children": [
              "IPY_MODEL_eeef0a17b88c4008b45546dd88e09888",
              "IPY_MODEL_ce22ce261e8b4e238683072873fbe414"
            ],
            "layout": "IPY_MODEL_f1a2e5889ade4c24827ad1ef284f8ae8"
          }
        },
        "eeef0a17b88c4008b45546dd88e09888": {
          "model_module": "@jupyter-widgets/controls",
          "model_name": "LabelModel",
          "model_module_version": "1.5.0",
          "state": {
            "_dom_classes": [],
            "_model_module": "@jupyter-widgets/controls",
            "_model_module_version": "1.5.0",
            "_model_name": "LabelModel",
            "_view_count": null,
            "_view_module": "@jupyter-widgets/controls",
            "_view_module_version": "1.5.0",
            "_view_name": "LabelView",
            "description": "",
            "description_tooltip": null,
            "layout": "IPY_MODEL_23e4a014fce64e7c99073d887d4c5763",
            "placeholder": "​",
            "style": "IPY_MODEL_d8eef0d7f6844d72837ae7abc79a9b75",
            "value": "0.012 MB of 0.012 MB uploaded\r"
          }
        },
        "ce22ce261e8b4e238683072873fbe414": {
          "model_module": "@jupyter-widgets/controls",
          "model_name": "FloatProgressModel",
          "model_module_version": "1.5.0",
          "state": {
            "_dom_classes": [],
            "_model_module": "@jupyter-widgets/controls",
            "_model_module_version": "1.5.0",
            "_model_name": "FloatProgressModel",
            "_view_count": null,
            "_view_module": "@jupyter-widgets/controls",
            "_view_module_version": "1.5.0",
            "_view_name": "ProgressView",
            "bar_style": "",
            "description": "",
            "description_tooltip": null,
            "layout": "IPY_MODEL_72726ac96c4f4112a5a86d67e0c48ec7",
            "max": 1,
            "min": 0,
            "orientation": "horizontal",
            "style": "IPY_MODEL_10dde6f7883548df8e93126f0c26e6f5",
            "value": 1
          }
        },
        "f1a2e5889ade4c24827ad1ef284f8ae8": {
          "model_module": "@jupyter-widgets/base",
          "model_name": "LayoutModel",
          "model_module_version": "1.2.0",
          "state": {
            "_model_module": "@jupyter-widgets/base",
            "_model_module_version": "1.2.0",
            "_model_name": "LayoutModel",
            "_view_count": null,
            "_view_module": "@jupyter-widgets/base",
            "_view_module_version": "1.2.0",
            "_view_name": "LayoutView",
            "align_content": null,
            "align_items": null,
            "align_self": null,
            "border": null,
            "bottom": null,
            "display": null,
            "flex": null,
            "flex_flow": null,
            "grid_area": null,
            "grid_auto_columns": null,
            "grid_auto_flow": null,
            "grid_auto_rows": null,
            "grid_column": null,
            "grid_gap": null,
            "grid_row": null,
            "grid_template_areas": null,
            "grid_template_columns": null,
            "grid_template_rows": null,
            "height": null,
            "justify_content": null,
            "justify_items": null,
            "left": null,
            "margin": null,
            "max_height": null,
            "max_width": null,
            "min_height": null,
            "min_width": null,
            "object_fit": null,
            "object_position": null,
            "order": null,
            "overflow": null,
            "overflow_x": null,
            "overflow_y": null,
            "padding": null,
            "right": null,
            "top": null,
            "visibility": null,
            "width": null
          }
        },
        "23e4a014fce64e7c99073d887d4c5763": {
          "model_module": "@jupyter-widgets/base",
          "model_name": "LayoutModel",
          "model_module_version": "1.2.0",
          "state": {
            "_model_module": "@jupyter-widgets/base",
            "_model_module_version": "1.2.0",
            "_model_name": "LayoutModel",
            "_view_count": null,
            "_view_module": "@jupyter-widgets/base",
            "_view_module_version": "1.2.0",
            "_view_name": "LayoutView",
            "align_content": null,
            "align_items": null,
            "align_self": null,
            "border": null,
            "bottom": null,
            "display": null,
            "flex": null,
            "flex_flow": null,
            "grid_area": null,
            "grid_auto_columns": null,
            "grid_auto_flow": null,
            "grid_auto_rows": null,
            "grid_column": null,
            "grid_gap": null,
            "grid_row": null,
            "grid_template_areas": null,
            "grid_template_columns": null,
            "grid_template_rows": null,
            "height": null,
            "justify_content": null,
            "justify_items": null,
            "left": null,
            "margin": null,
            "max_height": null,
            "max_width": null,
            "min_height": null,
            "min_width": null,
            "object_fit": null,
            "object_position": null,
            "order": null,
            "overflow": null,
            "overflow_x": null,
            "overflow_y": null,
            "padding": null,
            "right": null,
            "top": null,
            "visibility": null,
            "width": null
          }
        },
        "d8eef0d7f6844d72837ae7abc79a9b75": {
          "model_module": "@jupyter-widgets/controls",
          "model_name": "DescriptionStyleModel",
          "model_module_version": "1.5.0",
          "state": {
            "_model_module": "@jupyter-widgets/controls",
            "_model_module_version": "1.5.0",
            "_model_name": "DescriptionStyleModel",
            "_view_count": null,
            "_view_module": "@jupyter-widgets/base",
            "_view_module_version": "1.2.0",
            "_view_name": "StyleView",
            "description_width": ""
          }
        },
        "72726ac96c4f4112a5a86d67e0c48ec7": {
          "model_module": "@jupyter-widgets/base",
          "model_name": "LayoutModel",
          "model_module_version": "1.2.0",
          "state": {
            "_model_module": "@jupyter-widgets/base",
            "_model_module_version": "1.2.0",
            "_model_name": "LayoutModel",
            "_view_count": null,
            "_view_module": "@jupyter-widgets/base",
            "_view_module_version": "1.2.0",
            "_view_name": "LayoutView",
            "align_content": null,
            "align_items": null,
            "align_self": null,
            "border": null,
            "bottom": null,
            "display": null,
            "flex": null,
            "flex_flow": null,
            "grid_area": null,
            "grid_auto_columns": null,
            "grid_auto_flow": null,
            "grid_auto_rows": null,
            "grid_column": null,
            "grid_gap": null,
            "grid_row": null,
            "grid_template_areas": null,
            "grid_template_columns": null,
            "grid_template_rows": null,
            "height": null,
            "justify_content": null,
            "justify_items": null,
            "left": null,
            "margin": null,
            "max_height": null,
            "max_width": null,
            "min_height": null,
            "min_width": null,
            "object_fit": null,
            "object_position": null,
            "order": null,
            "overflow": null,
            "overflow_x": null,
            "overflow_y": null,
            "padding": null,
            "right": null,
            "top": null,
            "visibility": null,
            "width": null
          }
        },
        "10dde6f7883548df8e93126f0c26e6f5": {
          "model_module": "@jupyter-widgets/controls",
          "model_name": "ProgressStyleModel",
          "model_module_version": "1.5.0",
          "state": {
            "_model_module": "@jupyter-widgets/controls",
            "_model_module_version": "1.5.0",
            "_model_name": "ProgressStyleModel",
            "_view_count": null,
            "_view_module": "@jupyter-widgets/base",
            "_view_module_version": "1.2.0",
            "_view_name": "StyleView",
            "bar_color": null,
            "description_width": ""
          }
        },
        "c130e907835847acb3526a66b110f122": {
          "model_module": "@jupyter-widgets/controls",
          "model_name": "VBoxModel",
          "model_module_version": "1.5.0",
          "state": {
            "_dom_classes": [],
            "_model_module": "@jupyter-widgets/controls",
            "_model_module_version": "1.5.0",
            "_model_name": "VBoxModel",
            "_view_count": null,
            "_view_module": "@jupyter-widgets/controls",
            "_view_module_version": "1.5.0",
            "_view_name": "VBoxView",
            "box_style": "",
            "children": [
              "IPY_MODEL_1e300bd399f64994a01645324cbd7719",
              "IPY_MODEL_5d69fafad0ed4d32a890f75d367eaeb5"
            ],
            "layout": "IPY_MODEL_81d2096e346d4463948b5fca8222485d"
          }
        },
        "1e300bd399f64994a01645324cbd7719": {
          "model_module": "@jupyter-widgets/controls",
          "model_name": "LabelModel",
          "model_module_version": "1.5.0",
          "state": {
            "_dom_classes": [],
            "_model_module": "@jupyter-widgets/controls",
            "_model_module_version": "1.5.0",
            "_model_name": "LabelModel",
            "_view_count": null,
            "_view_module": "@jupyter-widgets/controls",
            "_view_module_version": "1.5.0",
            "_view_name": "LabelView",
            "description": "",
            "description_tooltip": null,
            "layout": "IPY_MODEL_6990df208f4a4aea8cf9385cb63563e8",
            "placeholder": "​",
            "style": "IPY_MODEL_7aa91aa9f94f4fd1b4a8a9d3fd1240b9",
            "value": "21.988 MB of 21.988 MB uploaded (0.015 MB deduped)\r"
          }
        },
        "5d69fafad0ed4d32a890f75d367eaeb5": {
          "model_module": "@jupyter-widgets/controls",
          "model_name": "FloatProgressModel",
          "model_module_version": "1.5.0",
          "state": {
            "_dom_classes": [],
            "_model_module": "@jupyter-widgets/controls",
            "_model_module_version": "1.5.0",
            "_model_name": "FloatProgressModel",
            "_view_count": null,
            "_view_module": "@jupyter-widgets/controls",
            "_view_module_version": "1.5.0",
            "_view_name": "ProgressView",
            "bar_style": "",
            "description": "",
            "description_tooltip": null,
            "layout": "IPY_MODEL_bbf3865732964d6096017af68c26344b",
            "max": 1,
            "min": 0,
            "orientation": "horizontal",
            "style": "IPY_MODEL_3ea6b57777d94d8bb136da202ed75731",
            "value": 1
          }
        },
        "81d2096e346d4463948b5fca8222485d": {
          "model_module": "@jupyter-widgets/base",
          "model_name": "LayoutModel",
          "model_module_version": "1.2.0",
          "state": {
            "_model_module": "@jupyter-widgets/base",
            "_model_module_version": "1.2.0",
            "_model_name": "LayoutModel",
            "_view_count": null,
            "_view_module": "@jupyter-widgets/base",
            "_view_module_version": "1.2.0",
            "_view_name": "LayoutView",
            "align_content": null,
            "align_items": null,
            "align_self": null,
            "border": null,
            "bottom": null,
            "display": null,
            "flex": null,
            "flex_flow": null,
            "grid_area": null,
            "grid_auto_columns": null,
            "grid_auto_flow": null,
            "grid_auto_rows": null,
            "grid_column": null,
            "grid_gap": null,
            "grid_row": null,
            "grid_template_areas": null,
            "grid_template_columns": null,
            "grid_template_rows": null,
            "height": null,
            "justify_content": null,
            "justify_items": null,
            "left": null,
            "margin": null,
            "max_height": null,
            "max_width": null,
            "min_height": null,
            "min_width": null,
            "object_fit": null,
            "object_position": null,
            "order": null,
            "overflow": null,
            "overflow_x": null,
            "overflow_y": null,
            "padding": null,
            "right": null,
            "top": null,
            "visibility": null,
            "width": null
          }
        },
        "6990df208f4a4aea8cf9385cb63563e8": {
          "model_module": "@jupyter-widgets/base",
          "model_name": "LayoutModel",
          "model_module_version": "1.2.0",
          "state": {
            "_model_module": "@jupyter-widgets/base",
            "_model_module_version": "1.2.0",
            "_model_name": "LayoutModel",
            "_view_count": null,
            "_view_module": "@jupyter-widgets/base",
            "_view_module_version": "1.2.0",
            "_view_name": "LayoutView",
            "align_content": null,
            "align_items": null,
            "align_self": null,
            "border": null,
            "bottom": null,
            "display": null,
            "flex": null,
            "flex_flow": null,
            "grid_area": null,
            "grid_auto_columns": null,
            "grid_auto_flow": null,
            "grid_auto_rows": null,
            "grid_column": null,
            "grid_gap": null,
            "grid_row": null,
            "grid_template_areas": null,
            "grid_template_columns": null,
            "grid_template_rows": null,
            "height": null,
            "justify_content": null,
            "justify_items": null,
            "left": null,
            "margin": null,
            "max_height": null,
            "max_width": null,
            "min_height": null,
            "min_width": null,
            "object_fit": null,
            "object_position": null,
            "order": null,
            "overflow": null,
            "overflow_x": null,
            "overflow_y": null,
            "padding": null,
            "right": null,
            "top": null,
            "visibility": null,
            "width": null
          }
        },
        "7aa91aa9f94f4fd1b4a8a9d3fd1240b9": {
          "model_module": "@jupyter-widgets/controls",
          "model_name": "DescriptionStyleModel",
          "model_module_version": "1.5.0",
          "state": {
            "_model_module": "@jupyter-widgets/controls",
            "_model_module_version": "1.5.0",
            "_model_name": "DescriptionStyleModel",
            "_view_count": null,
            "_view_module": "@jupyter-widgets/base",
            "_view_module_version": "1.2.0",
            "_view_name": "StyleView",
            "description_width": ""
          }
        },
        "bbf3865732964d6096017af68c26344b": {
          "model_module": "@jupyter-widgets/base",
          "model_name": "LayoutModel",
          "model_module_version": "1.2.0",
          "state": {
            "_model_module": "@jupyter-widgets/base",
            "_model_module_version": "1.2.0",
            "_model_name": "LayoutModel",
            "_view_count": null,
            "_view_module": "@jupyter-widgets/base",
            "_view_module_version": "1.2.0",
            "_view_name": "LayoutView",
            "align_content": null,
            "align_items": null,
            "align_self": null,
            "border": null,
            "bottom": null,
            "display": null,
            "flex": null,
            "flex_flow": null,
            "grid_area": null,
            "grid_auto_columns": null,
            "grid_auto_flow": null,
            "grid_auto_rows": null,
            "grid_column": null,
            "grid_gap": null,
            "grid_row": null,
            "grid_template_areas": null,
            "grid_template_columns": null,
            "grid_template_rows": null,
            "height": null,
            "justify_content": null,
            "justify_items": null,
            "left": null,
            "margin": null,
            "max_height": null,
            "max_width": null,
            "min_height": null,
            "min_width": null,
            "object_fit": null,
            "object_position": null,
            "order": null,
            "overflow": null,
            "overflow_x": null,
            "overflow_y": null,
            "padding": null,
            "right": null,
            "top": null,
            "visibility": null,
            "width": null
          }
        },
        "3ea6b57777d94d8bb136da202ed75731": {
          "model_module": "@jupyter-widgets/controls",
          "model_name": "ProgressStyleModel",
          "model_module_version": "1.5.0",
          "state": {
            "_model_module": "@jupyter-widgets/controls",
            "_model_module_version": "1.5.0",
            "_model_name": "ProgressStyleModel",
            "_view_count": null,
            "_view_module": "@jupyter-widgets/base",
            "_view_module_version": "1.2.0",
            "_view_name": "StyleView",
            "bar_color": null,
            "description_width": ""
          }
        },
        "3936d5dd0a2a46019c645de7dd0b370d": {
          "model_module": "@jupyter-widgets/controls",
          "model_name": "VBoxModel",
          "model_module_version": "1.5.0",
          "state": {
            "_dom_classes": [],
            "_model_module": "@jupyter-widgets/controls",
            "_model_module_version": "1.5.0",
            "_model_name": "VBoxModel",
            "_view_count": null,
            "_view_module": "@jupyter-widgets/controls",
            "_view_module_version": "1.5.0",
            "_view_name": "VBoxView",
            "box_style": "",
            "children": [
              "IPY_MODEL_5af0115d5b7940638fca440e09dc6607",
              "IPY_MODEL_4277e9ae104b43d1b8f00622704ea002"
            ],
            "layout": "IPY_MODEL_429dc388f68d4d76a987952118410bbe"
          }
        },
        "5af0115d5b7940638fca440e09dc6607": {
          "model_module": "@jupyter-widgets/controls",
          "model_name": "LabelModel",
          "model_module_version": "1.5.0",
          "state": {
            "_dom_classes": [],
            "_model_module": "@jupyter-widgets/controls",
            "_model_module_version": "1.5.0",
            "_model_name": "LabelModel",
            "_view_count": null,
            "_view_module": "@jupyter-widgets/controls",
            "_view_module_version": "1.5.0",
            "_view_name": "LabelView",
            "description": "",
            "description_tooltip": null,
            "layout": "IPY_MODEL_7945e6916fec4353ba43f3be594cdc6f",
            "placeholder": "​",
            "style": "IPY_MODEL_a81b4d64fd134b05b445f5204d071942",
            "value": "334.398 MB of 334.398 MB uploaded (0.050 MB deduped)\r"
          }
        },
        "4277e9ae104b43d1b8f00622704ea002": {
          "model_module": "@jupyter-widgets/controls",
          "model_name": "FloatProgressModel",
          "model_module_version": "1.5.0",
          "state": {
            "_dom_classes": [],
            "_model_module": "@jupyter-widgets/controls",
            "_model_module_version": "1.5.0",
            "_model_name": "FloatProgressModel",
            "_view_count": null,
            "_view_module": "@jupyter-widgets/controls",
            "_view_module_version": "1.5.0",
            "_view_name": "ProgressView",
            "bar_style": "",
            "description": "",
            "description_tooltip": null,
            "layout": "IPY_MODEL_85c1ade9512041c59d7d774dc0b3a2a6",
            "max": 1,
            "min": 0,
            "orientation": "horizontal",
            "style": "IPY_MODEL_4789091a48004da79569b8adbab337f4",
            "value": 1
          }
        },
        "429dc388f68d4d76a987952118410bbe": {
          "model_module": "@jupyter-widgets/base",
          "model_name": "LayoutModel",
          "model_module_version": "1.2.0",
          "state": {
            "_model_module": "@jupyter-widgets/base",
            "_model_module_version": "1.2.0",
            "_model_name": "LayoutModel",
            "_view_count": null,
            "_view_module": "@jupyter-widgets/base",
            "_view_module_version": "1.2.0",
            "_view_name": "LayoutView",
            "align_content": null,
            "align_items": null,
            "align_self": null,
            "border": null,
            "bottom": null,
            "display": null,
            "flex": null,
            "flex_flow": null,
            "grid_area": null,
            "grid_auto_columns": null,
            "grid_auto_flow": null,
            "grid_auto_rows": null,
            "grid_column": null,
            "grid_gap": null,
            "grid_row": null,
            "grid_template_areas": null,
            "grid_template_columns": null,
            "grid_template_rows": null,
            "height": null,
            "justify_content": null,
            "justify_items": null,
            "left": null,
            "margin": null,
            "max_height": null,
            "max_width": null,
            "min_height": null,
            "min_width": null,
            "object_fit": null,
            "object_position": null,
            "order": null,
            "overflow": null,
            "overflow_x": null,
            "overflow_y": null,
            "padding": null,
            "right": null,
            "top": null,
            "visibility": null,
            "width": null
          }
        },
        "7945e6916fec4353ba43f3be594cdc6f": {
          "model_module": "@jupyter-widgets/base",
          "model_name": "LayoutModel",
          "model_module_version": "1.2.0",
          "state": {
            "_model_module": "@jupyter-widgets/base",
            "_model_module_version": "1.2.0",
            "_model_name": "LayoutModel",
            "_view_count": null,
            "_view_module": "@jupyter-widgets/base",
            "_view_module_version": "1.2.0",
            "_view_name": "LayoutView",
            "align_content": null,
            "align_items": null,
            "align_self": null,
            "border": null,
            "bottom": null,
            "display": null,
            "flex": null,
            "flex_flow": null,
            "grid_area": null,
            "grid_auto_columns": null,
            "grid_auto_flow": null,
            "grid_auto_rows": null,
            "grid_column": null,
            "grid_gap": null,
            "grid_row": null,
            "grid_template_areas": null,
            "grid_template_columns": null,
            "grid_template_rows": null,
            "height": null,
            "justify_content": null,
            "justify_items": null,
            "left": null,
            "margin": null,
            "max_height": null,
            "max_width": null,
            "min_height": null,
            "min_width": null,
            "object_fit": null,
            "object_position": null,
            "order": null,
            "overflow": null,
            "overflow_x": null,
            "overflow_y": null,
            "padding": null,
            "right": null,
            "top": null,
            "visibility": null,
            "width": null
          }
        },
        "a81b4d64fd134b05b445f5204d071942": {
          "model_module": "@jupyter-widgets/controls",
          "model_name": "DescriptionStyleModel",
          "model_module_version": "1.5.0",
          "state": {
            "_model_module": "@jupyter-widgets/controls",
            "_model_module_version": "1.5.0",
            "_model_name": "DescriptionStyleModel",
            "_view_count": null,
            "_view_module": "@jupyter-widgets/base",
            "_view_module_version": "1.2.0",
            "_view_name": "StyleView",
            "description_width": ""
          }
        },
        "85c1ade9512041c59d7d774dc0b3a2a6": {
          "model_module": "@jupyter-widgets/base",
          "model_name": "LayoutModel",
          "model_module_version": "1.2.0",
          "state": {
            "_model_module": "@jupyter-widgets/base",
            "_model_module_version": "1.2.0",
            "_model_name": "LayoutModel",
            "_view_count": null,
            "_view_module": "@jupyter-widgets/base",
            "_view_module_version": "1.2.0",
            "_view_name": "LayoutView",
            "align_content": null,
            "align_items": null,
            "align_self": null,
            "border": null,
            "bottom": null,
            "display": null,
            "flex": null,
            "flex_flow": null,
            "grid_area": null,
            "grid_auto_columns": null,
            "grid_auto_flow": null,
            "grid_auto_rows": null,
            "grid_column": null,
            "grid_gap": null,
            "grid_row": null,
            "grid_template_areas": null,
            "grid_template_columns": null,
            "grid_template_rows": null,
            "height": null,
            "justify_content": null,
            "justify_items": null,
            "left": null,
            "margin": null,
            "max_height": null,
            "max_width": null,
            "min_height": null,
            "min_width": null,
            "object_fit": null,
            "object_position": null,
            "order": null,
            "overflow": null,
            "overflow_x": null,
            "overflow_y": null,
            "padding": null,
            "right": null,
            "top": null,
            "visibility": null,
            "width": null
          }
        },
        "4789091a48004da79569b8adbab337f4": {
          "model_module": "@jupyter-widgets/controls",
          "model_name": "ProgressStyleModel",
          "model_module_version": "1.5.0",
          "state": {
            "_model_module": "@jupyter-widgets/controls",
            "_model_module_version": "1.5.0",
            "_model_name": "ProgressStyleModel",
            "_view_count": null,
            "_view_module": "@jupyter-widgets/base",
            "_view_module_version": "1.2.0",
            "_view_name": "StyleView",
            "bar_color": null,
            "description_width": ""
          }
        },
        "92c579672be444bea43a38967ecde36c": {
          "model_module": "@jupyter-widgets/controls",
          "model_name": "VBoxModel",
          "model_module_version": "1.5.0",
          "state": {
            "_dom_classes": [],
            "_model_module": "@jupyter-widgets/controls",
            "_model_module_version": "1.5.0",
            "_model_name": "VBoxModel",
            "_view_count": null,
            "_view_module": "@jupyter-widgets/controls",
            "_view_module_version": "1.5.0",
            "_view_name": "VBoxView",
            "box_style": "",
            "children": [
              "IPY_MODEL_cf90b4ec57e644a38d701b4b29f8d271",
              "IPY_MODEL_764a637fe4e648ada2629d7ac9a5c749"
            ],
            "layout": "IPY_MODEL_9a50251de6bd41fab48ab5c12a7e333f"
          }
        },
        "cf90b4ec57e644a38d701b4b29f8d271": {
          "model_module": "@jupyter-widgets/controls",
          "model_name": "LabelModel",
          "model_module_version": "1.5.0",
          "state": {
            "_dom_classes": [],
            "_model_module": "@jupyter-widgets/controls",
            "_model_module_version": "1.5.0",
            "_model_name": "LabelModel",
            "_view_count": null,
            "_view_module": "@jupyter-widgets/controls",
            "_view_module_version": "1.5.0",
            "_view_name": "LabelView",
            "description": "",
            "description_tooltip": null,
            "layout": "IPY_MODEL_7da96d5e2077447a9a0c5851558d1dc9",
            "placeholder": "​",
            "style": "IPY_MODEL_ed7243ef7d224693b0fef7d1ce8bf57c",
            "value": "61.803 MB of 61.803 MB uploaded (0.015 MB deduped)\r"
          }
        },
        "764a637fe4e648ada2629d7ac9a5c749": {
          "model_module": "@jupyter-widgets/controls",
          "model_name": "FloatProgressModel",
          "model_module_version": "1.5.0",
          "state": {
            "_dom_classes": [],
            "_model_module": "@jupyter-widgets/controls",
            "_model_module_version": "1.5.0",
            "_model_name": "FloatProgressModel",
            "_view_count": null,
            "_view_module": "@jupyter-widgets/controls",
            "_view_module_version": "1.5.0",
            "_view_name": "ProgressView",
            "bar_style": "",
            "description": "",
            "description_tooltip": null,
            "layout": "IPY_MODEL_c91d03a66e014b71822db15886c4ca41",
            "max": 1,
            "min": 0,
            "orientation": "horizontal",
            "style": "IPY_MODEL_cea67e99672e48b69a5e26c1ce65b3cd",
            "value": 1
          }
        },
        "9a50251de6bd41fab48ab5c12a7e333f": {
          "model_module": "@jupyter-widgets/base",
          "model_name": "LayoutModel",
          "model_module_version": "1.2.0",
          "state": {
            "_model_module": "@jupyter-widgets/base",
            "_model_module_version": "1.2.0",
            "_model_name": "LayoutModel",
            "_view_count": null,
            "_view_module": "@jupyter-widgets/base",
            "_view_module_version": "1.2.0",
            "_view_name": "LayoutView",
            "align_content": null,
            "align_items": null,
            "align_self": null,
            "border": null,
            "bottom": null,
            "display": null,
            "flex": null,
            "flex_flow": null,
            "grid_area": null,
            "grid_auto_columns": null,
            "grid_auto_flow": null,
            "grid_auto_rows": null,
            "grid_column": null,
            "grid_gap": null,
            "grid_row": null,
            "grid_template_areas": null,
            "grid_template_columns": null,
            "grid_template_rows": null,
            "height": null,
            "justify_content": null,
            "justify_items": null,
            "left": null,
            "margin": null,
            "max_height": null,
            "max_width": null,
            "min_height": null,
            "min_width": null,
            "object_fit": null,
            "object_position": null,
            "order": null,
            "overflow": null,
            "overflow_x": null,
            "overflow_y": null,
            "padding": null,
            "right": null,
            "top": null,
            "visibility": null,
            "width": null
          }
        },
        "7da96d5e2077447a9a0c5851558d1dc9": {
          "model_module": "@jupyter-widgets/base",
          "model_name": "LayoutModel",
          "model_module_version": "1.2.0",
          "state": {
            "_model_module": "@jupyter-widgets/base",
            "_model_module_version": "1.2.0",
            "_model_name": "LayoutModel",
            "_view_count": null,
            "_view_module": "@jupyter-widgets/base",
            "_view_module_version": "1.2.0",
            "_view_name": "LayoutView",
            "align_content": null,
            "align_items": null,
            "align_self": null,
            "border": null,
            "bottom": null,
            "display": null,
            "flex": null,
            "flex_flow": null,
            "grid_area": null,
            "grid_auto_columns": null,
            "grid_auto_flow": null,
            "grid_auto_rows": null,
            "grid_column": null,
            "grid_gap": null,
            "grid_row": null,
            "grid_template_areas": null,
            "grid_template_columns": null,
            "grid_template_rows": null,
            "height": null,
            "justify_content": null,
            "justify_items": null,
            "left": null,
            "margin": null,
            "max_height": null,
            "max_width": null,
            "min_height": null,
            "min_width": null,
            "object_fit": null,
            "object_position": null,
            "order": null,
            "overflow": null,
            "overflow_x": null,
            "overflow_y": null,
            "padding": null,
            "right": null,
            "top": null,
            "visibility": null,
            "width": null
          }
        },
        "ed7243ef7d224693b0fef7d1ce8bf57c": {
          "model_module": "@jupyter-widgets/controls",
          "model_name": "DescriptionStyleModel",
          "model_module_version": "1.5.0",
          "state": {
            "_model_module": "@jupyter-widgets/controls",
            "_model_module_version": "1.5.0",
            "_model_name": "DescriptionStyleModel",
            "_view_count": null,
            "_view_module": "@jupyter-widgets/base",
            "_view_module_version": "1.2.0",
            "_view_name": "StyleView",
            "description_width": ""
          }
        },
        "c91d03a66e014b71822db15886c4ca41": {
          "model_module": "@jupyter-widgets/base",
          "model_name": "LayoutModel",
          "model_module_version": "1.2.0",
          "state": {
            "_model_module": "@jupyter-widgets/base",
            "_model_module_version": "1.2.0",
            "_model_name": "LayoutModel",
            "_view_count": null,
            "_view_module": "@jupyter-widgets/base",
            "_view_module_version": "1.2.0",
            "_view_name": "LayoutView",
            "align_content": null,
            "align_items": null,
            "align_self": null,
            "border": null,
            "bottom": null,
            "display": null,
            "flex": null,
            "flex_flow": null,
            "grid_area": null,
            "grid_auto_columns": null,
            "grid_auto_flow": null,
            "grid_auto_rows": null,
            "grid_column": null,
            "grid_gap": null,
            "grid_row": null,
            "grid_template_areas": null,
            "grid_template_columns": null,
            "grid_template_rows": null,
            "height": null,
            "justify_content": null,
            "justify_items": null,
            "left": null,
            "margin": null,
            "max_height": null,
            "max_width": null,
            "min_height": null,
            "min_width": null,
            "object_fit": null,
            "object_position": null,
            "order": null,
            "overflow": null,
            "overflow_x": null,
            "overflow_y": null,
            "padding": null,
            "right": null,
            "top": null,
            "visibility": null,
            "width": null
          }
        },
        "cea67e99672e48b69a5e26c1ce65b3cd": {
          "model_module": "@jupyter-widgets/controls",
          "model_name": "ProgressStyleModel",
          "model_module_version": "1.5.0",
          "state": {
            "_model_module": "@jupyter-widgets/controls",
            "_model_module_version": "1.5.0",
            "_model_name": "ProgressStyleModel",
            "_view_count": null,
            "_view_module": "@jupyter-widgets/base",
            "_view_module_version": "1.2.0",
            "_view_name": "StyleView",
            "bar_color": null,
            "description_width": ""
          }
        },
        "8c07bdab94c14822a800e7c8518d293f": {
          "model_module": "@jupyter-widgets/controls",
          "model_name": "VBoxModel",
          "model_module_version": "1.5.0",
          "state": {
            "_dom_classes": [],
            "_model_module": "@jupyter-widgets/controls",
            "_model_module_version": "1.5.0",
            "_model_name": "VBoxModel",
            "_view_count": null,
            "_view_module": "@jupyter-widgets/controls",
            "_view_module_version": "1.5.0",
            "_view_name": "VBoxView",
            "box_style": "",
            "children": [
              "IPY_MODEL_acd8e8b9c62243aa9d7e3aea782e754b",
              "IPY_MODEL_1486d3986e4740df8161002130e8db17"
            ],
            "layout": "IPY_MODEL_8947cec0e8ae4a88a86ae3d018c8c228"
          }
        },
        "acd8e8b9c62243aa9d7e3aea782e754b": {
          "model_module": "@jupyter-widgets/controls",
          "model_name": "LabelModel",
          "model_module_version": "1.5.0",
          "state": {
            "_dom_classes": [],
            "_model_module": "@jupyter-widgets/controls",
            "_model_module_version": "1.5.0",
            "_model_name": "LabelModel",
            "_view_count": null,
            "_view_module": "@jupyter-widgets/controls",
            "_view_module_version": "1.5.0",
            "_view_name": "LabelView",
            "description": "",
            "description_tooltip": null,
            "layout": "IPY_MODEL_b7d5d1c9e4594c529c3752a06d32942f",
            "placeholder": "​",
            "style": "IPY_MODEL_d114ad1aa67941869ca5cdc176d582f9",
            "value": "228.758 MB of 228.758 MB uploaded (0.104 MB deduped)\r"
          }
        },
        "1486d3986e4740df8161002130e8db17": {
          "model_module": "@jupyter-widgets/controls",
          "model_name": "FloatProgressModel",
          "model_module_version": "1.5.0",
          "state": {
            "_dom_classes": [],
            "_model_module": "@jupyter-widgets/controls",
            "_model_module_version": "1.5.0",
            "_model_name": "FloatProgressModel",
            "_view_count": null,
            "_view_module": "@jupyter-widgets/controls",
            "_view_module_version": "1.5.0",
            "_view_name": "ProgressView",
            "bar_style": "",
            "description": "",
            "description_tooltip": null,
            "layout": "IPY_MODEL_5ea7bb44dcbc4ba7ba06aa2699f98d93",
            "max": 1,
            "min": 0,
            "orientation": "horizontal",
            "style": "IPY_MODEL_a57e6d99006240c09928746f0c30599a",
            "value": 1
          }
        },
        "8947cec0e8ae4a88a86ae3d018c8c228": {
          "model_module": "@jupyter-widgets/base",
          "model_name": "LayoutModel",
          "model_module_version": "1.2.0",
          "state": {
            "_model_module": "@jupyter-widgets/base",
            "_model_module_version": "1.2.0",
            "_model_name": "LayoutModel",
            "_view_count": null,
            "_view_module": "@jupyter-widgets/base",
            "_view_module_version": "1.2.0",
            "_view_name": "LayoutView",
            "align_content": null,
            "align_items": null,
            "align_self": null,
            "border": null,
            "bottom": null,
            "display": null,
            "flex": null,
            "flex_flow": null,
            "grid_area": null,
            "grid_auto_columns": null,
            "grid_auto_flow": null,
            "grid_auto_rows": null,
            "grid_column": null,
            "grid_gap": null,
            "grid_row": null,
            "grid_template_areas": null,
            "grid_template_columns": null,
            "grid_template_rows": null,
            "height": null,
            "justify_content": null,
            "justify_items": null,
            "left": null,
            "margin": null,
            "max_height": null,
            "max_width": null,
            "min_height": null,
            "min_width": null,
            "object_fit": null,
            "object_position": null,
            "order": null,
            "overflow": null,
            "overflow_x": null,
            "overflow_y": null,
            "padding": null,
            "right": null,
            "top": null,
            "visibility": null,
            "width": null
          }
        },
        "b7d5d1c9e4594c529c3752a06d32942f": {
          "model_module": "@jupyter-widgets/base",
          "model_name": "LayoutModel",
          "model_module_version": "1.2.0",
          "state": {
            "_model_module": "@jupyter-widgets/base",
            "_model_module_version": "1.2.0",
            "_model_name": "LayoutModel",
            "_view_count": null,
            "_view_module": "@jupyter-widgets/base",
            "_view_module_version": "1.2.0",
            "_view_name": "LayoutView",
            "align_content": null,
            "align_items": null,
            "align_self": null,
            "border": null,
            "bottom": null,
            "display": null,
            "flex": null,
            "flex_flow": null,
            "grid_area": null,
            "grid_auto_columns": null,
            "grid_auto_flow": null,
            "grid_auto_rows": null,
            "grid_column": null,
            "grid_gap": null,
            "grid_row": null,
            "grid_template_areas": null,
            "grid_template_columns": null,
            "grid_template_rows": null,
            "height": null,
            "justify_content": null,
            "justify_items": null,
            "left": null,
            "margin": null,
            "max_height": null,
            "max_width": null,
            "min_height": null,
            "min_width": null,
            "object_fit": null,
            "object_position": null,
            "order": null,
            "overflow": null,
            "overflow_x": null,
            "overflow_y": null,
            "padding": null,
            "right": null,
            "top": null,
            "visibility": null,
            "width": null
          }
        },
        "d114ad1aa67941869ca5cdc176d582f9": {
          "model_module": "@jupyter-widgets/controls",
          "model_name": "DescriptionStyleModel",
          "model_module_version": "1.5.0",
          "state": {
            "_model_module": "@jupyter-widgets/controls",
            "_model_module_version": "1.5.0",
            "_model_name": "DescriptionStyleModel",
            "_view_count": null,
            "_view_module": "@jupyter-widgets/base",
            "_view_module_version": "1.2.0",
            "_view_name": "StyleView",
            "description_width": ""
          }
        },
        "5ea7bb44dcbc4ba7ba06aa2699f98d93": {
          "model_module": "@jupyter-widgets/base",
          "model_name": "LayoutModel",
          "model_module_version": "1.2.0",
          "state": {
            "_model_module": "@jupyter-widgets/base",
            "_model_module_version": "1.2.0",
            "_model_name": "LayoutModel",
            "_view_count": null,
            "_view_module": "@jupyter-widgets/base",
            "_view_module_version": "1.2.0",
            "_view_name": "LayoutView",
            "align_content": null,
            "align_items": null,
            "align_self": null,
            "border": null,
            "bottom": null,
            "display": null,
            "flex": null,
            "flex_flow": null,
            "grid_area": null,
            "grid_auto_columns": null,
            "grid_auto_flow": null,
            "grid_auto_rows": null,
            "grid_column": null,
            "grid_gap": null,
            "grid_row": null,
            "grid_template_areas": null,
            "grid_template_columns": null,
            "grid_template_rows": null,
            "height": null,
            "justify_content": null,
            "justify_items": null,
            "left": null,
            "margin": null,
            "max_height": null,
            "max_width": null,
            "min_height": null,
            "min_width": null,
            "object_fit": null,
            "object_position": null,
            "order": null,
            "overflow": null,
            "overflow_x": null,
            "overflow_y": null,
            "padding": null,
            "right": null,
            "top": null,
            "visibility": null,
            "width": null
          }
        },
        "a57e6d99006240c09928746f0c30599a": {
          "model_module": "@jupyter-widgets/controls",
          "model_name": "ProgressStyleModel",
          "model_module_version": "1.5.0",
          "state": {
            "_model_module": "@jupyter-widgets/controls",
            "_model_module_version": "1.5.0",
            "_model_name": "ProgressStyleModel",
            "_view_count": null,
            "_view_module": "@jupyter-widgets/base",
            "_view_module_version": "1.2.0",
            "_view_name": "StyleView",
            "bar_color": null,
            "description_width": ""
          }
        }
      }
    }
  },
  "cells": [
    {
      "cell_type": "markdown",
      "source": [
        "### connect to drive and show the mfccs of each language."
      ],
      "metadata": {
        "id": "nEsE6nkATIr0"
      }
    },
    {
      "cell_type": "code",
      "source": [
        "from google.colab import drive\n",
        "drive.mount('/content/drive') #for who is reviewing this notebook, we have sample datasets in GitHub, feel free to try it."
      ],
      "metadata": {
        "colab": {
          "base_uri": "https://localhost:8080/"
        },
        "id": "MTegKK-bpEbR",
        "outputId": "3070d1e4-3d97-43c1-8f49-8662930622c3"
      },
      "execution_count": 25,
      "outputs": [
        {
          "output_type": "stream",
          "name": "stdout",
          "text": [
            "Drive already mounted at /content/drive; to attempt to forcibly remount, call drive.mount(\"/content/drive\", force_remount=True).\n"
          ]
        }
      ]
    },
    {
      "cell_type": "code",
      "source": [
        "!pip install pydub"
      ],
      "metadata": {
        "colab": {
          "base_uri": "https://localhost:8080/"
        },
        "id": "JH7FUs3xqfaw",
        "outputId": "7cfae575-8927-48a9-a2fc-cd8db22eb829"
      },
      "execution_count": 26,
      "outputs": [
        {
          "output_type": "stream",
          "name": "stdout",
          "text": [
            "Requirement already satisfied: pydub in /usr/local/lib/python3.10/dist-packages (0.25.1)\n"
          ]
        }
      ]
    },
    {
      "cell_type": "code",
      "source": [
        "!pip install librosa"
      ],
      "metadata": {
        "colab": {
          "base_uri": "https://localhost:8080/"
        },
        "id": "EWvtQrCEssTA",
        "outputId": "fdc775ed-4a57-406e-eaae-fb3257b82a5b"
      },
      "execution_count": 27,
      "outputs": [
        {
          "output_type": "stream",
          "name": "stdout",
          "text": [
            "Requirement already satisfied: librosa in /usr/local/lib/python3.10/dist-packages (0.10.1)\n",
            "Requirement already satisfied: audioread>=2.1.9 in /usr/local/lib/python3.10/dist-packages (from librosa) (3.0.1)\n",
            "Requirement already satisfied: numpy!=1.22.0,!=1.22.1,!=1.22.2,>=1.20.3 in /usr/local/lib/python3.10/dist-packages (from librosa) (1.25.2)\n",
            "Requirement already satisfied: scipy>=1.2.0 in /usr/local/lib/python3.10/dist-packages (from librosa) (1.11.4)\n",
            "Requirement already satisfied: scikit-learn>=0.20.0 in /usr/local/lib/python3.10/dist-packages (from librosa) (1.2.2)\n",
            "Requirement already satisfied: joblib>=0.14 in /usr/local/lib/python3.10/dist-packages (from librosa) (1.4.0)\n",
            "Requirement already satisfied: decorator>=4.3.0 in /usr/local/lib/python3.10/dist-packages (from librosa) (4.4.2)\n",
            "Requirement already satisfied: numba>=0.51.0 in /usr/local/lib/python3.10/dist-packages (from librosa) (0.58.1)\n",
            "Requirement already satisfied: soundfile>=0.12.1 in /usr/local/lib/python3.10/dist-packages (from librosa) (0.12.1)\n",
            "Requirement already satisfied: pooch>=1.0 in /usr/local/lib/python3.10/dist-packages (from librosa) (1.8.1)\n",
            "Requirement already satisfied: soxr>=0.3.2 in /usr/local/lib/python3.10/dist-packages (from librosa) (0.3.7)\n",
            "Requirement already satisfied: typing-extensions>=4.1.1 in /usr/local/lib/python3.10/dist-packages (from librosa) (4.11.0)\n",
            "Requirement already satisfied: lazy-loader>=0.1 in /usr/local/lib/python3.10/dist-packages (from librosa) (0.4)\n",
            "Requirement already satisfied: msgpack>=1.0 in /usr/local/lib/python3.10/dist-packages (from librosa) (1.0.8)\n",
            "Requirement already satisfied: packaging in /usr/local/lib/python3.10/dist-packages (from lazy-loader>=0.1->librosa) (24.0)\n",
            "Requirement already satisfied: llvmlite<0.42,>=0.41.0dev0 in /usr/local/lib/python3.10/dist-packages (from numba>=0.51.0->librosa) (0.41.1)\n",
            "Requirement already satisfied: platformdirs>=2.5.0 in /usr/local/lib/python3.10/dist-packages (from pooch>=1.0->librosa) (4.2.0)\n",
            "Requirement already satisfied: requests>=2.19.0 in /usr/local/lib/python3.10/dist-packages (from pooch>=1.0->librosa) (2.31.0)\n",
            "Requirement already satisfied: threadpoolctl>=2.0.0 in /usr/local/lib/python3.10/dist-packages (from scikit-learn>=0.20.0->librosa) (3.4.0)\n",
            "Requirement already satisfied: cffi>=1.0 in /usr/local/lib/python3.10/dist-packages (from soundfile>=0.12.1->librosa) (1.16.0)\n",
            "Requirement already satisfied: pycparser in /usr/local/lib/python3.10/dist-packages (from cffi>=1.0->soundfile>=0.12.1->librosa) (2.22)\n",
            "Requirement already satisfied: charset-normalizer<4,>=2 in /usr/local/lib/python3.10/dist-packages (from requests>=2.19.0->pooch>=1.0->librosa) (3.3.2)\n",
            "Requirement already satisfied: idna<4,>=2.5 in /usr/local/lib/python3.10/dist-packages (from requests>=2.19.0->pooch>=1.0->librosa) (3.7)\n",
            "Requirement already satisfied: urllib3<3,>=1.21.1 in /usr/local/lib/python3.10/dist-packages (from requests>=2.19.0->pooch>=1.0->librosa) (2.0.7)\n",
            "Requirement already satisfied: certifi>=2017.4.17 in /usr/local/lib/python3.10/dist-packages (from requests>=2.19.0->pooch>=1.0->librosa) (2024.2.2)\n"
          ]
        }
      ]
    },
    {
      "cell_type": "code",
      "source": [
        "audio_path = '/content/drive/MyDrive/BA865_Group_3/dataset'\n",
        "#lang_folder = ('Arabic', 'Chinese', 'English', 'French', 'Germany', 'Japanese', 'Russian', 'Spanish', 'Thai') this is the lable we have as folder name"
      ],
      "metadata": {
        "id": "G30BFe3Qpu8o"
      },
      "execution_count": 29,
      "outputs": []
    },
    {
      "cell_type": "code",
      "source": [
        "import librosa\n",
        "import librosa.display\n",
        "import matplotlib.pyplot as plt\n",
        "\n",
        "sample_audio = '/content/drive/MyDrive/BA865_Group_3/dataset/English/common_voice_en_38220472.mp3'# change this path by using the file we upload in github\n",
        "y, sr = librosa.load(sample_audio)\n",
        "\n",
        "mfccs = librosa.feature.mfcc(y=y, sr=sr, n_mfcc=13)\n",
        "\n",
        "plt.figure(figsize=(10, 4))\n",
        "librosa.display.specshow(mfccs, x_axis='time', sr=sr)\n",
        "plt.colorbar(label='MFCC')\n",
        "plt.title('MFCC')\n",
        "plt.tight_layout()\n",
        "plt.show()"
      ],
      "metadata": {
        "colab": {
          "base_uri": "https://localhost:8080/",
          "height": 407
        },
        "id": "s3XmIB0ImjUJ",
        "outputId": "ddd74655-0490-4fb9-b964-db8eaed7c3ce"
      },
      "execution_count": 28,
      "outputs": [
        {
          "output_type": "display_data",
          "data": {
            "text/plain": [
              "<Figure size 1000x400 with 2 Axes>"
            ],
            "image/png": "[encoded data removed]"
          },
          "metadata": {}
        }
      ]
    },
    {
      "cell_type": "code",
      "source": [
        "import librosa\n",
        "import librosa.display\n",
        "import matplotlib.pyplot as plt\n",
        "import numpy as np\n",
        "\n",
        "def extract_and_plot_mfccs(audio_path, language, ax):\n",
        "    y, sr = librosa.load(audio_path)\n",
        "    mfccs = librosa.feature.mfcc(y=y, sr=sr, n_mfcc=13)\n",
        "    img = librosa.display.specshow(mfccs, x_axis='time', ax=ax)\n",
        "    ax.set_title(f'MFCCs for {language}')\n",
        "    return img\n",
        "\n",
        "fig, axes = plt.subplots(3, 3, figsize=(15, 10))\n",
        "\n",
        "languages = ['Arabic', 'Chinese', 'English', 'French', 'German', 'Japanese', 'Russian', 'Spanish', 'Thai']\n",
        "images = []\n",
        "#draw each mfcc plot to check the unique feature for each kind of languages\n",
        "for i, language in enumerate(languages):\n",
        "    audio_dir = f'/content/drive/MyDrive/BA865_Group_3/dataset/{language}'\n",
        "    audio_files = os.listdir(audio_dir)\n",
        "    audio_path = os.path.join(audio_dir, audio_files[0])\n",
        "    ax = axes[i//3, i%3]\n",
        "    img = extract_and_plot_mfccs(audio_path, language, ax)\n",
        "    images.append(img)\n",
        "\n",
        "fig.colorbar(images[0], ax=axes, orientation='horizontal', fraction=0.02, pad=0.1)\n",
        "plt.tight_layout()\n",
        "plt.show()"
      ],
      "metadata": {
        "colab": {
          "base_uri": "https://localhost:8080/",
          "height": 907
        },
        "id": "CYL9VHpnqf2L",
        "outputId": "749e492b-97ce-4e55-f05a-f29f4f88f107"
      },
      "execution_count": 33,
      "outputs": [
        {
          "output_type": "display_data",
          "data": {
            "text/plain": [
              "<Figure size 1500x1000 with 10 Axes>"
            ],
            "image/png": "[encoded data removed]"
          },
          "metadata": {}
        }
      ]
    },
    {
      "cell_type": "markdown",
      "source": [
        "### features for model"
      ],
      "metadata": {
        "id": "8zAq9bogQ5od"
      }
    },
    {
      "cell_type": "code",
      "source": [
        "learning_rate = 0.001\n",
        "epochs = 10\n",
        "batch_size = 32\n",
        "model_name = 'CNN'"
      ],
      "metadata": {
        "id": "m7DDArfuQ9Uh"
      },
      "execution_count": null,
      "outputs": []
    },
    {
      "cell_type": "markdown",
      "source": [
        "### preprocess\n"
      ],
      "metadata": {
        "id": "va9TbOU0TL_F"
      }
    },
    {
      "cell_type": "code",
      "source": [
        "!pip install h5py"
      ],
      "metadata": {
        "colab": {
          "base_uri": "https://localhost:8080/"
        },
        "id": "Ues-jRDXTOtY",
        "outputId": "2b082ac7-d2ea-4a8e-e9fe-4e91f6674409"
      },
      "execution_count": 34,
      "outputs": [
        {
          "output_type": "stream",
          "name": "stdout",
          "text": [
            "Requirement already satisfied: h5py in /usr/local/lib/python3.10/dist-packages (3.9.0)\n",
            "Requirement already satisfied: numpy>=1.17.3 in /usr/local/lib/python3.10/dist-packages (from h5py) (1.25.2)\n"
          ]
        }
      ]
    },
    {
      "cell_type": "code",
      "source": [
        "import os\n",
        "import librosa\n",
        "import numpy as np\n",
        "import h5py\n",
        "import tensorflow as tf\n",
        "from multiprocessing import Pool\n",
        "\n",
        "import warnings\n",
        "warnings.filterwarnings('ignore')"
      ],
      "metadata": {
        "id": "HWwhvtw1TVjS"
      },
      "execution_count": 35,
      "outputs": []
    },
    {
      "cell_type": "code",
      "source": [
        "def process_audio(file_path):\n",
        "    try:\n",
        "        audio, sr = librosa.load(file_path, sr=None)\n",
        "        audio = librosa.util.normalize(audio)\n",
        "        audio_trimmed, _ = librosa.effects.trim(audio, top_db=30, frame_length=2048, hop_length=512)\n",
        "\n",
        "        mfccs = librosa.feature.mfcc(y=audio_trimmed, sr=sr, n_mfcc=13)\n",
        "\n",
        "        max_len = max(mfccs.shape[1], 873)\n",
        "        padded_mfccs = np.pad(mfccs, ((0, 0), (0, max_len - mfccs.shape[1])), mode='constant')\n",
        "\n",
        "        mfccs_tensor = tf.convert_to_tensor(padded_mfccs, dtype=tf.float32)\n",
        "\n",
        "        label = os.path.basename(file_path)\n",
        "\n",
        "        return {'mfccs': mfccs_tensor, 'label': label}\n",
        "\n",
        "    except Exception as e:\n",
        "        print(f\"Failed to process {file_path}: {str(e)}\")\n",
        "        return {}\n",
        "\n",
        "def process_audio_parallel(file_paths):\n",
        "    with Pool() as pool:\n",
        "        results = pool.map(process_audio, file_paths)\n",
        "    return results\n",
        "\n",
        "\n",
        "def batch_audio_processor(base_path, output_file):\n",
        "    file_paths = []\n",
        "    labels = []\n",
        "    for language in os.listdir(base_path):\n",
        "        lang_path = os.path.join(base_path, language)\n",
        "        if os.path.isdir(lang_path):\n",
        "            for audio_file in os.listdir(lang_path):\n",
        "                if audio_file.endswith('.mp3'):\n",
        "                    file_paths.append(os.path.join(lang_path, audio_file))\n",
        "                    labels.append(language)\n",
        "    results = process_audio_parallel(file_paths)\n",
        "\n",
        "    max_len = max(result['mfccs'].shape[1] for result in results if 'mfccs' in result)\n",
        "\n",
        "    mfccs_list = []\n",
        "    for result in results:\n",
        "        if 'mfccs' in result:\n",
        "            mfccs = result['mfccs']\n",
        "            padded_mfccs = tf.pad(mfccs, [[0, 0], [0, max_len - mfccs.shape[1]]])\n",
        "            mfccs_list.append(padded_mfccs)\n",
        "\n",
        "    stacked_mfccs = tf.stack(mfccs_list)\n",
        "\n",
        "    with h5py.File(output_file, 'w') as h5f:\n",
        "        h5f.create_dataset('mfccs', data=stacked_mfccs.numpy())\n",
        "        h5f.create_dataset('labels', data=labels)\n",
        "#padding the mfccs, we will explain it in report in detail\n",
        "base_path = '/content/drive/MyDrive/BA865_Group_3/dataset'\n",
        "output_file = '/content/drive/MyDrive/BA865_Group_3/dataset/mfccs_and_labels.h5'\n",
        "batch_audio_processor(base_path, output_file)"
      ],
      "metadata": {
        "id": "t0KzKHGlTWNH"
      },
      "execution_count": 36,
      "outputs": []
    },
    {
      "cell_type": "code",
      "source": [
        "with h5py.File('/content/drive/MyDrive/BA865_Group_3/dataset/mfccs_and_labels.h5', 'r') as h5f:\n",
        "    mfccs_dataset = h5f['mfccs']\n",
        "    labels_dataset = h5f['labels']\n",
        "\n",
        "    mfccs = np.array(mfccs_dataset)\n",
        "    labels = np.array(labels_dataset)\n",
        "\n",
        "import tensorflow as tf\n",
        "mfccs_tensor = tf.convert_to_tensor(mfccs, dtype=tf.float32)"
      ],
      "metadata": {
        "id": "GuUk1kt9UEZI"
      },
      "execution_count": 37,
      "outputs": []
    },
    {
      "cell_type": "markdown",
      "source": [
        "### Models"
      ],
      "metadata": {
        "id": "Dmut0Z4eXAJG"
      }
    },
    {
      "cell_type": "markdown",
      "source": [
        "CNN"
      ],
      "metadata": {
        "id": "gEkEXqGrnguw"
      }
    },
    {
      "cell_type": "code",
      "source": [
        "import h5py\n",
        "import numpy as np\n",
        "from sklearn.model_selection import train_test_split\n",
        "from sklearn.preprocessing import LabelEncoder\n",
        "from tensorflow.keras.models import Sequential\n",
        "from tensorflow.keras.layers import Conv2D, MaxPooling2D, Flatten, Dense\n",
        "from keras.utils import to_categorical\n",
        "\n",
        "def decode_if_bytes(text):\n",
        "    if isinstance(text, bytes):\n",
        "        return text.decode('utf-8')\n",
        "    return text\n",
        "\n",
        "labels = [decode_if_bytes(label) for label in labels]\n",
        "\n",
        "X_train, X_test, y_train, y_test = train_test_split(mfccs, labels, test_size=0.2, random_state=42)\n",
        "\n",
        "X_train = X_train.reshape(X_train.shape[0], X_train.shape[1], X_train.shape[2], 1)\n",
        "X_test = X_test.reshape(X_test.shape[0], X_test.shape[1], X_test.shape[2], 1)\n",
        "\n",
        "label_encoder = LabelEncoder()\n",
        "y_train_encoded = label_encoder.fit_transform(y_train)\n",
        "y_test_encoded = label_encoder.transform(y_test)\n",
        "y_train_one_hot = to_categorical(y_train_encoded, num_classes=9)\n",
        "y_test_one_hot = to_categorical(y_test_encoded, num_classes=9)\n",
        "\n",
        "model = Sequential([\n",
        "    Conv2D(32, kernel_size=(3, 3), activation='relu', input_shape=(X_train.shape[1], X_train.shape[2], 1)),\n",
        "    MaxPooling2D(pool_size=(2, 2)),\n",
        "    Conv2D(64, kernel_size=(3, 3), activation='relu'),\n",
        "    MaxPooling2D(pool_size=(2, 2)),\n",
        "    Flatten(),\n",
        "    Dense(128, activation='relu'),\n",
        "    Dense(9, activation='softmax')\n",
        "])\n",
        "\n",
        "model.compile(optimizer='adam', loss='categorical_crossentropy', metrics=['accuracy'])\n",
        "model.fit(X_train, y_train_one_hot, epochs=10, batch_size=32, validation_split=0.2)\n",
        "\n",
        "test_loss, test_acc = model.evaluate(X_test, y_test_one_hot)\n",
        "print('CNN Test accuracy:', test_acc)\n"
      ],
      "metadata": {
        "colab": {
          "base_uri": "https://localhost:8080/"
        },
        "id": "aHt1U6y2ULHY",
        "outputId": "468b8142-261c-46ce-b8df-f65e47a16cf8"
      },
      "execution_count": 40,
      "outputs": [
        {
          "output_type": "stream",
          "name": "stdout",
          "text": [
            "Epoch 1/10\n",
            "18/18 [==============================] - 6s 279ms/step - loss: 16.6367 - accuracy: 0.1545 - val_loss: 2.1521 - val_accuracy: 0.1597\n",
            "Epoch 2/10\n",
            "18/18 [==============================] - 6s 327ms/step - loss: 2.0082 - accuracy: 0.3194 - val_loss: 2.0559 - val_accuracy: 0.2014\n",
            "Epoch 3/10\n",
            "18/18 [==============================] - 6s 332ms/step - loss: 1.3974 - accuracy: 0.5312 - val_loss: 1.9639 - val_accuracy: 0.3750\n",
            "Epoch 4/10\n",
            "18/18 [==============================] - 5s 296ms/step - loss: 0.6023 - accuracy: 0.8021 - val_loss: 1.9369 - val_accuracy: 0.4653\n",
            "Epoch 5/10\n",
            "18/18 [==============================] - 7s 380ms/step - loss: 0.2286 - accuracy: 0.9375 - val_loss: 2.3499 - val_accuracy: 0.4583\n",
            "Epoch 6/10\n",
            "18/18 [==============================] - 5s 276ms/step - loss: 0.0787 - accuracy: 0.9844 - val_loss: 2.5283 - val_accuracy: 0.5139\n",
            "Epoch 7/10\n",
            "18/18 [==============================] - 6s 328ms/step - loss: 0.0419 - accuracy: 0.9965 - val_loss: 2.9053 - val_accuracy: 0.4236\n",
            "Epoch 8/10\n",
            "18/18 [==============================] - 8s 430ms/step - loss: 0.0208 - accuracy: 0.9983 - val_loss: 2.6974 - val_accuracy: 0.5000\n",
            "Epoch 9/10\n",
            "18/18 [==============================] - 5s 289ms/step - loss: 0.0098 - accuracy: 0.9983 - val_loss: 2.9306 - val_accuracy: 0.4931\n",
            "Epoch 10/10\n",
            "18/18 [==============================] - 7s 388ms/step - loss: 0.0041 - accuracy: 1.0000 - val_loss: 2.9829 - val_accuracy: 0.4931\n",
            "6/6 [==============================] - 1s 82ms/step - loss: 2.1662 - accuracy: 0.5944\n",
            "CNN Test accuracy: 0.5944444537162781\n"
          ]
        }
      ]
    },
    {
      "cell_type": "markdown",
      "source": [
        "LSTM"
      ],
      "metadata": {
        "id": "S_5Vje2Qns-c"
      }
    },
    {
      "cell_type": "code",
      "source": [
        "from tensorflow.keras.layers import LSTM\n",
        "\n",
        "lstm_model = Sequential([\n",
        "    LSTM(128, input_shape=(X_train.shape[1], X_train.shape[2]), return_sequences=True),\n",
        "    LSTM(64, return_sequences=False),\n",
        "    Dense(64, activation='relu'),\n",
        "    Dense(9, activation='softmax')\n",
        "])\n",
        "\n",
        "lstm_model.compile(optimizer='adam', loss='categorical_crossentropy', metrics=['accuracy'])\n",
        "lstm_model.fit(X_train, y_train_one_hot, epochs=10, batch_size=32, validation_split=0.2)\n",
        "\n",
        "test_loss, test_acc = lstm_model.evaluate(X_test, y_test_one_hot)\n",
        "print('LSTM Test accuracy:', test_acc)"
      ],
      "metadata": {
        "colab": {
          "base_uri": "https://localhost:8080/"
        },
        "id": "fsYbuZmvnybr",
        "outputId": "d3d0a8a8-978d-47fd-94da-e513489e2cef"
      },
      "execution_count": 41,
      "outputs": [
        {
          "output_type": "stream",
          "name": "stdout",
          "text": [
            "Epoch 1/10\n",
            "18/18 [==============================] - 7s 145ms/step - loss: 2.1209 - accuracy: 0.2014 - val_loss: 2.0271 - val_accuracy: 0.2500\n",
            "Epoch 2/10\n",
            "18/18 [==============================] - 1s 53ms/step - loss: 1.7639 - accuracy: 0.3941 - val_loss: 1.8013 - val_accuracy: 0.3403\n",
            "Epoch 3/10\n",
            "18/18 [==============================] - 1s 48ms/step - loss: 1.3382 - accuracy: 0.5903 - val_loss: 1.6424 - val_accuracy: 0.4097\n",
            "Epoch 4/10\n",
            "18/18 [==============================] - 1s 53ms/step - loss: 0.9086 - accuracy: 0.7865 - val_loss: 1.6714 - val_accuracy: 0.4097\n",
            "Epoch 5/10\n",
            "18/18 [==============================] - 1s 53ms/step - loss: 0.5844 - accuracy: 0.8698 - val_loss: 1.8380 - val_accuracy: 0.3681\n",
            "Epoch 6/10\n",
            "18/18 [==============================] - 1s 52ms/step - loss: 0.4539 - accuracy: 0.8819 - val_loss: 1.8682 - val_accuracy: 0.3958\n",
            "Epoch 7/10\n",
            "18/18 [==============================] - 1s 47ms/step - loss: 0.3617 - accuracy: 0.8924 - val_loss: 1.9406 - val_accuracy: 0.3750\n",
            "Epoch 8/10\n",
            "18/18 [==============================] - 1s 52ms/step - loss: 0.2382 - accuracy: 0.9462 - val_loss: 2.0683 - val_accuracy: 0.3889\n",
            "Epoch 9/10\n",
            "18/18 [==============================] - 1s 52ms/step - loss: 0.1363 - accuracy: 0.9809 - val_loss: 2.2897 - val_accuracy: 0.3819\n",
            "Epoch 10/10\n",
            "18/18 [==============================] - 1s 52ms/step - loss: 0.0742 - accuracy: 0.9878 - val_loss: 2.3997 - val_accuracy: 0.4028\n",
            "6/6 [==============================] - 0s 17ms/step - loss: 2.1049 - accuracy: 0.4389\n",
            "LSTM Test accuracy: 0.43888887763023376\n"
          ]
        }
      ]
    },
    {
      "cell_type": "markdown",
      "source": [
        "CRNN"
      ],
      "metadata": {
        "id": "mP2hUXq8p-zH"
      }
    },
    {
      "cell_type": "code",
      "source": [
        "from tensorflow.keras.layers import LSTM, TimeDistributed\n",
        "\n",
        "crnn_model = Sequential([\n",
        "    Conv2D(32, kernel_size=(3, 3), activation='relu', input_shape=(X_train.shape[1], X_train.shape[2], 1)),\n",
        "    MaxPooling2D(pool_size=(2, 2)),\n",
        "    Conv2D(64, kernel_size=(3, 3), activation='relu'),\n",
        "    MaxPooling2D(pool_size=(2, 2)),\n",
        "\n",
        "    TimeDistributed(Flatten()),\n",
        "\n",
        "    LSTM(128, return_sequences=True),\n",
        "    LSTM(64, return_sequences=False),\n",
        "\n",
        "\n",
        "    Dense(64, activation='relu'),\n",
        "    Dense(9, activation='softmax')\n",
        "])\n",
        "\n",
        "crnn_model.compile(optimizer='adam', loss='categorical_crossentropy', metrics=['accuracy'])\n",
        "crnn_model.fit(X_train, y_train_one_hot, epochs=10, batch_size=32, validation_split=0.2)\n",
        "\n",
        "test_loss, test_acc = crnn_model.evaluate(X_test, y_test_one_hot)\n",
        "print('CRNN Test accuracy:', test_acc)\n"
      ],
      "metadata": {
        "colab": {
          "base_uri": "https://localhost:8080/"
        },
        "id": "s-C2gH-Np-Y4",
        "outputId": "5464c024-2d05-4368-8b04-ac74db986d40"
      },
      "execution_count": 42,
      "outputs": [
        {
          "output_type": "stream",
          "name": "stdout",
          "text": [
            "Epoch 1/10\n",
            "18/18 [==============================] - 13s 417ms/step - loss: 2.1710 - accuracy: 0.1892 - val_loss: 2.1479 - val_accuracy: 0.1806\n",
            "Epoch 2/10\n",
            "18/18 [==============================] - 10s 586ms/step - loss: 2.1004 - accuracy: 0.2378 - val_loss: 2.0847 - val_accuracy: 0.1944\n",
            "Epoch 3/10\n",
            "18/18 [==============================] - 7s 380ms/step - loss: 2.0452 - accuracy: 0.2396 - val_loss: 2.0189 - val_accuracy: 0.2014\n",
            "Epoch 4/10\n",
            "18/18 [==============================] - 8s 468ms/step - loss: 2.0086 - accuracy: 0.2500 - val_loss: 2.0045 - val_accuracy: 0.2222\n",
            "Epoch 5/10\n",
            "18/18 [==============================] - 7s 375ms/step - loss: 1.9810 - accuracy: 0.2431 - val_loss: 1.9450 - val_accuracy: 0.2847\n",
            "Epoch 6/10\n",
            "18/18 [==============================] - 8s 462ms/step - loss: 1.9360 - accuracy: 0.2986 - val_loss: 1.9234 - val_accuracy: 0.2708\n",
            "Epoch 7/10\n",
            "18/18 [==============================] - 8s 427ms/step - loss: 1.9128 - accuracy: 0.2951 - val_loss: 1.9106 - val_accuracy: 0.2500\n",
            "Epoch 8/10\n",
            "18/18 [==============================] - 7s 398ms/step - loss: 1.9184 - accuracy: 0.2587 - val_loss: 1.9449 - val_accuracy: 0.2361\n",
            "Epoch 9/10\n",
            "18/18 [==============================] - 8s 444ms/step - loss: 1.9174 - accuracy: 0.2500 - val_loss: 1.9636 - val_accuracy: 0.2431\n",
            "Epoch 10/10\n",
            "18/18 [==============================] - 7s 396ms/step - loss: 1.9086 - accuracy: 0.2882 - val_loss: 1.9864 - val_accuracy: 0.2292\n",
            "6/6 [==============================] - 1s 84ms/step - loss: 1.9078 - accuracy: 0.2111\n",
            "CRNN Test accuracy: 0.21111111342906952\n"
          ]
        }
      ]
    },
    {
      "cell_type": "markdown",
      "source": [
        "transfer with pretrain model VGG16"
      ],
      "metadata": {
        "id": "UKZxHmvDtRxE"
      }
    },
    {
      "cell_type": "code",
      "source": [
        "#transfer with VGG16\n",
        "import numpy as np\n",
        "import h5py\n",
        "import os\n",
        "import tensorflow as tf\n",
        "from tensorflow.keras.applications import VGG16\n",
        "from tensorflow.keras.models import Model\n",
        "from tensorflow.keras.layers import Dense, Flatten\n",
        "from sklearn.model_selection import train_test_split\n",
        "from sklearn.preprocessing import LabelEncoder\n",
        "from keras.utils import to_categorical\n",
        "\n",
        "\n",
        "\n",
        "dataset_path = '/content/drive/MyDrive/BA865_Group_3/dataset/mfccs_and_labels.h5'\n",
        "with h5py.File(dataset_path, 'r') as h5f:\n",
        "    mfccs = h5f['mfccs'][:]\n",
        "    labels = h5f['labels'][:]\n",
        "\n",
        "labels = [label.decode('utf-8') for label in labels]\n",
        "\n",
        "X_train, X_test, y_train, y_test = train_test_split(mfccs, labels, test_size=0.2, random_state=42)\n",
        "\n",
        "label_encoder = LabelEncoder()\n",
        "y_train_encoded = label_encoder.fit_transform(y_train)\n",
        "y_test_encoded = label_encoder.transform(y_test)\n",
        "y_train_one_hot = to_categorical(y_train_encoded, num_classes=9)\n",
        "y_test_one_hot = to_categorical(y_test_encoded, num_classes=9)\n",
        "\n",
        "pad_height = max(32 - X_train.shape[1], 0)\n",
        "pad_width = max(32 - X_train.shape[2], 0)\n",
        "\n",
        "\n",
        "from tensorflow.image import resize\n",
        "\n",
        "X_train_padded = np.pad(X_train, ((0, 0), (0, pad_height), (0, pad_width)), mode='constant')\n",
        "X_test_padded = np.pad(X_test, ((0, 0), (0, pad_height), (0, pad_width)), mode='constant')\n",
        "\n",
        "X_train_rgb = np.repeat(X_train_padded[..., np.newaxis], 3, axis=-1)\n",
        "X_train_rgb_resized = np.array([resize(X_train_rgb[i], size=(32, 32)) for i in range(X_train_rgb.shape[0])])\n",
        "X_test_rgb = np.repeat(X_test_padded[..., np.newaxis], 3, axis=-1)\n",
        "X_test_rgb_resized = np.array([resize(X_test_rgb[i], size=(32, 32)) for i in range(X_test_rgb.shape[0])])\n",
        "\n",
        "base_model = VGG16(weights='imagenet', include_top=False, input_shape=(32, 32, 3))\n",
        "\n",
        "\n",
        "for layer in base_model.layers:\n",
        "    layer.trainable = False\n",
        "\n",
        "x = Flatten()(base_model.output)\n",
        "x = Dense(128, activation='relu')(x)\n",
        "predictions = Dense(9, activation='softmax')(x)\n",
        "\n",
        "transfer_model = Model(inputs=base_model.input, outputs=predictions)\n",
        "\n",
        "transfer_model.compile(optimizer='adam', loss='categorical_crossentropy', metrics=['accuracy'])\n",
        "\n",
        "transfer_model.fit(X_train_rgb_resized, y_train_one_hot, epochs=10, batch_size=32, validation_split=0.2)\n",
        "\n",
        "test_loss, test_acc = transfer_model.evaluate(X_test_rgb_resized, y_test_one_hot)\n",
        "print('VGG16 Transfor Test accuracy:', test_acc)"
      ],
      "metadata": {
        "colab": {
          "base_uri": "https://localhost:8080/"
        },
        "id": "qnGH3dwjCT8Z",
        "outputId": "12d721bd-4d32-432a-a48d-acaf4ab810d2"
      },
      "execution_count": 44,
      "outputs": [
        {
          "output_type": "stream",
          "name": "stdout",
          "text": [
            "Epoch 1/10\n",
            "18/18 [==============================] - 10s 494ms/step - loss: 8.3009 - accuracy: 0.1736 - val_loss: 5.3072 - val_accuracy: 0.2153\n",
            "Epoch 2/10\n",
            "18/18 [==============================] - 8s 462ms/step - loss: 3.6409 - accuracy: 0.2882 - val_loss: 2.8756 - val_accuracy: 0.3681\n",
            "Epoch 3/10\n",
            "18/18 [==============================] - 9s 490ms/step - loss: 2.5585 - accuracy: 0.3681 - val_loss: 3.1111 - val_accuracy: 0.3125\n",
            "Epoch 4/10\n",
            "18/18 [==============================] - 7s 391ms/step - loss: 2.2789 - accuracy: 0.4167 - val_loss: 2.5553 - val_accuracy: 0.3542\n",
            "Epoch 5/10\n",
            "18/18 [==============================] - 10s 585ms/step - loss: 1.8657 - accuracy: 0.4601 - val_loss: 2.5218 - val_accuracy: 0.3333\n",
            "Epoch 6/10\n",
            "18/18 [==============================] - 9s 521ms/step - loss: 1.6984 - accuracy: 0.4757 - val_loss: 2.7914 - val_accuracy: 0.3333\n",
            "Epoch 7/10\n",
            "18/18 [==============================] - 7s 391ms/step - loss: 1.7383 - accuracy: 0.4705 - val_loss: 2.2201 - val_accuracy: 0.3542\n",
            "Epoch 8/10\n",
            "18/18 [==============================] - 9s 491ms/step - loss: 1.6974 - accuracy: 0.4844 - val_loss: 2.2721 - val_accuracy: 0.3750\n",
            "Epoch 9/10\n",
            "18/18 [==============================] - 7s 390ms/step - loss: 1.6409 - accuracy: 0.4896 - val_loss: 2.2341 - val_accuracy: 0.3958\n",
            "Epoch 10/10\n",
            "18/18 [==============================] - 9s 490ms/step - loss: 1.4369 - accuracy: 0.5451 - val_loss: 2.1370 - val_accuracy: 0.3958\n",
            "6/6 [==============================] - 2s 287ms/step - loss: 1.9938 - accuracy: 0.4944\n",
            "VGG16 Transfor Test accuracy: 0.49444442987442017\n"
          ]
        }
      ]
    },
    {
      "cell_type": "markdown",
      "source": [
        "### WandB"
      ],
      "metadata": {
        "id": "7JJEpR8bJ1VN"
      }
    },
    {
      "cell_type": "code",
      "source": [
        "if enable_wandb:\n",
        "  !pip install wandb -qU\n",
        "  import wandb\n",
        "  wandb.login()"
      ],
      "metadata": {
        "id": "gMa9wU-qKaCA"
      },
      "execution_count": 45,
      "outputs": []
    },
    {
      "cell_type": "code",
      "source": [
        "import wandb\n",
        "from wandb.keras import WandbCallback\n",
        "\n",
        "enable_wandb = True\n",
        "\n",
        "#Parameters\n",
        "learning_rate = 0.001\n",
        "epochs = 10\n",
        "batch_size = 32\n",
        "model_name = 'model_example'\n",
        "\n",
        "\n",
        "#LSTM\n",
        "if enable_wandb:\n",
        "    wandb.init(project='865Project LSTM',\n",
        "                config={'learning_rate': learning_rate,\n",
        "                        'epochs': epochs,\n",
        "                        'batch_size': batch_size,\n",
        "                        'architecture': model_name})\n",
        "    lstm_model.compile(optimizer='adam', loss='categorical_crossentropy', metrics=['accuracy'])\n",
        "    lstm_model.fit(X_train, y_train_one_hot,\n",
        "                    epochs=epochs,\n",
        "                    batch_size=batch_size,\n",
        "                    validation_split=0.2,\n",
        "                    callbacks=[WandbCallback()])\n",
        "\n",
        "    test_loss, test_acc = lstm_model.evaluate(X_test, y_test_one_hot)\n",
        "    print('LSTM Test accuracy:', test_acc)\n",
        "    wandb.log({'test_loss': test_loss, 'test_accuracy': test_acc})\n",
        "    wandb.finish()\n",
        "\n",
        "#CRNN\n",
        "if enable_wandb:\n",
        "    wandb.init(project='865Project CRNN',\n",
        "                config={'learning_rate': learning_rate,\n",
        "                        'epochs': epochs,\n",
        "                        'batch_size': batch_size,\n",
        "                        'architecture': model_name})\n",
        "    crnn_model.compile(optimizer='adam', loss='categorical_crossentropy', metrics=['accuracy'])\n",
        "    crnn_model.fit(X_train, y_train_one_hot,\n",
        "                    epochs=epochs,\n",
        "                    batch_size=batch_size,\n",
        "                    validation_split=0.2,\n",
        "                    callbacks=[WandbCallback()])\n",
        "\n",
        "    test_loss, test_acc = crnn_model.evaluate(X_test, y_test_one_hot)\n",
        "    print('CRNN Test accuracy:', test_acc)\n",
        "    wandb.log({'test_loss': test_loss, 'test_accuracy': test_acc})\n",
        "    wandb.finish()\n",
        "\n",
        "#CNN\n",
        "if enable_wandb:\n",
        "  wandb.init(project='865Project CNN',\n",
        "            config={'learning_rate': learning_rate,\n",
        "                    'epochs': epochs,\n",
        "                    'batch_size': batch_size,\n",
        "                    'architecture': model_name})\n",
        "  model.compile(optimizer='adam', loss='categorical_crossentropy', metrics=['accuracy'])\n",
        "  model.fit(X_train, y_train_one_hot,\n",
        "            epochs=epochs,\n",
        "            batch_size=batch_size,\n",
        "            validation_split=0.2,\n",
        "            callbacks=[WandbCallback()])\n",
        "\n",
        "  test_loss, test_acc = model.evaluate(X_test, y_test_one_hot)\n",
        "  print('CNN Test accuracy:', test_acc)\n",
        "  wandb.log({'test_loss': test_loss, 'test_accuracy': test_acc})\n",
        "  wandb.finish()\n"
      ],
      "metadata": {
        "colab": {
          "base_uri": "https://localhost:8080/",
          "height": 1000,
          "referenced_widgets": [
            "c130e907835847acb3526a66b110f122",
            "1e300bd399f64994a01645324cbd7719",
            "5d69fafad0ed4d32a890f75d367eaeb5",
            "81d2096e346d4463948b5fca8222485d",
            "6990df208f4a4aea8cf9385cb63563e8",
            "7aa91aa9f94f4fd1b4a8a9d3fd1240b9",
            "bbf3865732964d6096017af68c26344b",
            "3ea6b57777d94d8bb136da202ed75731",
            "3936d5dd0a2a46019c645de7dd0b370d",
            "5af0115d5b7940638fca440e09dc6607",
            "4277e9ae104b43d1b8f00622704ea002",
            "429dc388f68d4d76a987952118410bbe",
            "7945e6916fec4353ba43f3be594cdc6f",
            "a81b4d64fd134b05b445f5204d071942",
            "85c1ade9512041c59d7d774dc0b3a2a6",
            "4789091a48004da79569b8adbab337f4",
            "92c579672be444bea43a38967ecde36c",
            "cf90b4ec57e644a38d701b4b29f8d271",
            "764a637fe4e648ada2629d7ac9a5c749",
            "9a50251de6bd41fab48ab5c12a7e333f",
            "7da96d5e2077447a9a0c5851558d1dc9",
            "ed7243ef7d224693b0fef7d1ce8bf57c",
            "c91d03a66e014b71822db15886c4ca41",
            "cea67e99672e48b69a5e26c1ce65b3cd"
          ]
        },
        "id": "vpIZqINq44zK",
        "outputId": "2f6eeed1-4dff-49b9-f699-29dfd115a8c4"
      },
      "execution_count": 49,
      "outputs": [
        {
          "output_type": "display_data",
          "data": {
            "text/plain": [
              "<IPython.core.display.HTML object>"
            ],
            "text/html": [
              "Tracking run with wandb version 0.16.6"
            ]
          },
          "metadata": {}
        },
        {
          "output_type": "display_data",
          "data": {
            "text/plain": [
              "<IPython.core.display.HTML object>"
            ],
            "text/html": [
              "Run data is saved locally in <code>/content/wandb/run-20240426_010831-rkuqwxva</code>"
            ]
          },
          "metadata": {}
        },
        {
          "output_type": "display_data",
          "data": {
            "text/plain": [
              "<IPython.core.display.HTML object>"
            ],
            "text/html": [
              "Syncing run <strong><a href='https://wandb.ai/tianchengbu/865Project%20LSTM/runs/rkuqwxva' target=\"_blank\">earnest-yogurt-1</a></strong> to <a href='https://wandb.ai/tianchengbu/865Project%20LSTM' target=\"_blank\">Weights & Biases</a> (<a href='https://wandb.me/run' target=\"_blank\">docs</a>)<br/>"
            ]
          },
          "metadata": {}
        },
        {
          "output_type": "display_data",
          "data": {
            "text/plain": [
              "<IPython.core.display.HTML object>"
            ],
            "text/html": [
              " View project at <a href='https://wandb.ai/tianchengbu/865Project%20LSTM' target=\"_blank\">https://wandb.ai/tianchengbu/865Project%20LSTM</a>"
            ]
          },
          "metadata": {}
        },
        {
          "output_type": "display_data",
          "data": {
            "text/plain": [
              "<IPython.core.display.HTML object>"
            ],
            "text/html": [
              " View run at <a href='https://wandb.ai/tianchengbu/865Project%20LSTM/runs/rkuqwxva' target=\"_blank\">https://wandb.ai/tianchengbu/865Project%20LSTM/runs/rkuqwxva</a>"
            ]
          },
          "metadata": {}
        },
        {
          "output_type": "stream",
          "name": "stdout",
          "text": [
            "Epoch 1/10\n",
            "18/18 [==============================] - ETA: 0s - loss: 0.1014 - accuracy: 0.9740"
          ]
        },
        {
          "output_type": "stream",
          "name": "stderr",
          "text": [
            "\u001b[34m\u001b[1mwandb\u001b[0m: Adding directory to artifact (/content/wandb/run-20240426_010831-rkuqwxva/files/model-best)... Done. 0.0s\n"
          ]
        },
        {
          "output_type": "stream",
          "name": "stdout",
          "text": [
            "\b\b\b\b\b\b\b\b\b\b\b\b\b\b\b\b\b\b\b\b\b\b\b\b\b\b\b\b\b\b\b\b\b\b\b\b\b\b\b\b\b\b\b\b\b\b\b\b\b\b\b\b\b\b\b\b\b\b\b\b\b\b\b\b\b\b\b\b\b\b\b\b\b\b\b\b\b\b\b\b\b\b\r18/18 [==============================] - 14s 634ms/step - loss: 0.1014 - accuracy: 0.9740 - val_loss: 2.5252 - val_accuracy: 0.3472\n",
            "Epoch 2/10\n",
            "18/18 [==============================] - ETA: 0s - loss: 0.1032 - accuracy: 0.9757"
          ]
        },
        {
          "output_type": "stream",
          "name": "stderr",
          "text": [
            "\u001b[34m\u001b[1mwandb\u001b[0m: Adding directory to artifact (/content/wandb/run-20240426_010831-rkuqwxva/files/model-best)... Done. 0.1s\n"
          ]
        },
        {
          "output_type": "stream",
          "name": "stdout",
          "text": [
            "\b\b\b\b\b\b\b\b\b\b\b\b\b\b\b\b\b\b\b\b\b\b\b\b\b\b\b\b\b\b\b\b\b\b\b\b\b\b\b\b\b\b\b\b\b\b\b\b\b\b\b\b\b\b\b\b\b\b\b\b\b\b\b\b\b\b\b\b\b\b\b\b\b\b\b\b\b\b\b\b\b\b\r18/18 [==============================] - 9s 514ms/step - loss: 0.1032 - accuracy: 0.9757 - val_loss: 2.3959 - val_accuracy: 0.3819\n",
            "Epoch 3/10\n",
            "18/18 [==============================] - 2s 91ms/step - loss: 0.0833 - accuracy: 0.9774 - val_loss: 2.9201 - val_accuracy: 0.3333\n",
            "Epoch 4/10\n",
            "18/18 [==============================] - 1s 72ms/step - loss: 0.0447 - accuracy: 0.9931 - val_loss: 2.9151 - val_accuracy: 0.3819\n",
            "Epoch 5/10\n",
            "18/18 [==============================] - 1s 58ms/step - loss: 0.0366 - accuracy: 0.9913 - val_loss: 2.8340 - val_accuracy: 0.3681\n",
            "Epoch 6/10\n",
            "18/18 [==============================] - 1s 54ms/step - loss: 0.0261 - accuracy: 0.9931 - val_loss: 2.8888 - val_accuracy: 0.3750\n",
            "Epoch 7/10\n",
            "18/18 [==============================] - 1s 52ms/step - loss: 0.0144 - accuracy: 0.9983 - val_loss: 2.8190 - val_accuracy: 0.3472\n",
            "Epoch 8/10\n",
            "18/18 [==============================] - 1s 59ms/step - loss: 0.0067 - accuracy: 1.0000 - val_loss: 3.0246 - val_accuracy: 0.3542\n",
            "Epoch 9/10\n",
            "18/18 [==============================] - 1s 57ms/step - loss: 0.0041 - accuracy: 1.0000 - val_loss: 2.8971 - val_accuracy: 0.3889\n",
            "Epoch 10/10\n",
            "18/18 [==============================] - 1s 54ms/step - loss: 0.0026 - accuracy: 1.0000 - val_loss: 2.8863 - val_accuracy: 0.3819\n",
            "6/6 [==============================] - 0s 22ms/step - loss: 2.3295 - accuracy: 0.4222\n",
            "LSTM Test accuracy: 0.42222222685813904\n"
          ]
        },
        {
          "output_type": "display_data",
          "data": {
            "text/plain": [
              "VBox(children=(Label(value='15.439 MB of 15.439 MB uploaded (0.015 MB deduped)\\r'), FloatProgress(value=1.0, m…"
            ],
            "application/vnd.jupyter.widget-view+json": {
              "version_major": 2,
              "version_minor": 0,
              "model_id": "c130e907835847acb3526a66b110f122"
            }
          },
          "metadata": {}
        },
        {
          "output_type": "display_data",
          "data": {
            "text/plain": [
              "<IPython.core.display.HTML object>"
            ],
            "text/html": [
              "<style>\n",
              "    table.wandb td:nth-child(1) { padding: 0 10px; text-align: left ; width: auto;} td:nth-child(2) {text-align: left ; width: 100%}\n",
              "    .wandb-row { display: flex; flex-direction: row; flex-wrap: wrap; justify-content: flex-start; width: 100% }\n",
              "    .wandb-col { display: flex; flex-direction: column; flex-basis: 100%; flex: 1; padding: 10px; }\n",
              "    </style>\n",
              "<div class=\"wandb-row\"><div class=\"wandb-col\"><h3>Run history:</h3><br/><table class=\"wandb\"><tr><td>accuracy</td><td>▁▁▂▆▆▆████</td></tr><tr><td>epoch</td><td>▁▂▃▃▄▅▆▆▇█</td></tr><tr><td>loss</td><td>██▇▄▃▃▂▁▁▁</td></tr><tr><td>test_accuracy</td><td>▁</td></tr><tr><td>test_loss</td><td>▁</td></tr><tr><td>val_accuracy</td><td>▃▇▁▇▅▆▃▄█▇</td></tr><tr><td>val_loss</td><td>▂▁▇▇▆▆▆█▇▆</td></tr></table><br/></div><div class=\"wandb-col\"><h3>Run summary:</h3><br/><table class=\"wandb\"><tr><td>accuracy</td><td>1.0</td></tr><tr><td>best_epoch</td><td>1</td></tr><tr><td>best_val_loss</td><td>2.39591</td></tr><tr><td>epoch</td><td>9</td></tr><tr><td>loss</td><td>0.00259</td></tr><tr><td>test_accuracy</td><td>0.42222</td></tr><tr><td>test_loss</td><td>2.32952</td></tr><tr><td>val_accuracy</td><td>0.38194</td></tr><tr><td>val_loss</td><td>2.88631</td></tr></table><br/></div></div>"
            ]
          },
          "metadata": {}
        },
        {
          "output_type": "display_data",
          "data": {
            "text/plain": [
              "<IPython.core.display.HTML object>"
            ],
            "text/html": [
              " View run <strong style=\"color:#cdcd00\">earnest-yogurt-1</strong> at: <a href='https://wandb.ai/tianchengbu/865Project%20LSTM/runs/rkuqwxva' target=\"_blank\">https://wandb.ai/tianchengbu/865Project%20LSTM/runs/rkuqwxva</a><br/> View project at: <a href='https://wandb.ai/tianchengbu/865Project%20LSTM' target=\"_blank\">https://wandb.ai/tianchengbu/865Project%20LSTM</a><br/>Synced 5 W&B file(s), 1 media file(s), 10 artifact file(s) and 1 other file(s)"
            ]
          },
          "metadata": {}
        },
        {
          "output_type": "display_data",
          "data": {
            "text/plain": [
              "<IPython.core.display.HTML object>"
            ],
            "text/html": [
              "Find logs at: <code>./wandb/run-20240426_010831-rkuqwxva/logs</code>"
            ]
          },
          "metadata": {}
        },
        {
          "output_type": "display_data",
          "data": {
            "text/plain": [
              "<IPython.core.display.HTML object>"
            ],
            "text/html": [
              "Tracking run with wandb version 0.16.6"
            ]
          },
          "metadata": {}
        },
        {
          "output_type": "display_data",
          "data": {
            "text/plain": [
              "<IPython.core.display.HTML object>"
            ],
            "text/html": [
              "Run data is saved locally in <code>/content/wandb/run-20240426_010922-1ju1y38m</code>"
            ]
          },
          "metadata": {}
        },
        {
          "output_type": "display_data",
          "data": {
            "text/plain": [
              "<IPython.core.display.HTML object>"
            ],
            "text/html": [
              "Syncing run <strong><a href='https://wandb.ai/tianchengbu/865Project%20CRNN/runs/1ju1y38m' target=\"_blank\">morning-sponge-1</a></strong> to <a href='https://wandb.ai/tianchengbu/865Project%20CRNN' target=\"_blank\">Weights & Biases</a> (<a href='https://wandb.me/run' target=\"_blank\">docs</a>)<br/>"
            ]
          },
          "metadata": {}
        },
        {
          "output_type": "display_data",
          "data": {
            "text/plain": [
              "<IPython.core.display.HTML object>"
            ],
            "text/html": [
              " View project at <a href='https://wandb.ai/tianchengbu/865Project%20CRNN' target=\"_blank\">https://wandb.ai/tianchengbu/865Project%20CRNN</a>"
            ]
          },
          "metadata": {}
        },
        {
          "output_type": "display_data",
          "data": {
            "text/plain": [
              "<IPython.core.display.HTML object>"
            ],
            "text/html": [
              " View run at <a href='https://wandb.ai/tianchengbu/865Project%20CRNN/runs/1ju1y38m' target=\"_blank\">https://wandb.ai/tianchengbu/865Project%20CRNN/runs/1ju1y38m</a>"
            ]
          },
          "metadata": {}
        },
        {
          "output_type": "stream",
          "name": "stdout",
          "text": [
            "Epoch 1/10\n",
            "18/18 [==============================] - ETA: 0s - loss: 1.9004 - accuracy: 0.2517"
          ]
        },
        {
          "output_type": "stream",
          "name": "stderr",
          "text": [
            "\u001b[34m\u001b[1mwandb\u001b[0m: Adding directory to artifact (/content/wandb/run-20240426_010922-1ju1y38m/files/model-best)... Done. 0.9s\n"
          ]
        },
        {
          "output_type": "stream",
          "name": "stdout",
          "text": [
            "\b\b\b\b\b\b\b\b\b\b\b\b\b\b\b\b\b\b\b\b\b\b\b\b\b\b\b\b\b\b\b\b\b\b\b\b\b\b\b\b\b\b\b\b\b\b\b\b\b\b\b\b\b\b\b\b\b\b\b\b\b\b\b\b\b\b\b\b\b\b\b\b\b\b\b\b\b\b\b\b\b\b\r18/18 [==============================] - 23s 1s/step - loss: 1.9004 - accuracy: 0.2517 - val_loss: 1.8898 - val_accuracy: 0.2083\n",
            "Epoch 2/10\n",
            "18/18 [==============================] - 9s 523ms/step - loss: 1.8475 - accuracy: 0.2830 - val_loss: 1.9005 - val_accuracy: 0.2431\n",
            "Epoch 3/10\n",
            "18/18 [==============================] - ETA: 0s - loss: 1.8374 - accuracy: 0.2847"
          ]
        },
        {
          "output_type": "stream",
          "name": "stderr",
          "text": [
            "\u001b[34m\u001b[1mwandb\u001b[0m: Adding directory to artifact (/content/wandb/run-20240426_010922-1ju1y38m/files/model-best)... Done. 0.6s\n"
          ]
        },
        {
          "output_type": "stream",
          "name": "stdout",
          "text": [
            "\b\b\b\b\b\b\b\b\b\b\b\b\b\b\b\b\b\b\b\b\b\b\b\b\b\b\b\b\b\b\b\b\b\b\b\b\b\b\b\b\b\b\b\b\b\b\b\b\b\b\b\b\b\b\b\b\b\b\b\b\b\b\b\b\b\b\b\b\b\b\b\b\b\b\b\b\b\b\b\b\b\b\r18/18 [==============================] - 17s 987ms/step - loss: 1.8374 - accuracy: 0.2847 - val_loss: 1.8420 - val_accuracy: 0.3264\n",
            "Epoch 4/10\n",
            "18/18 [==============================] - 9s 476ms/step - loss: 1.8342 - accuracy: 0.2865 - val_loss: 1.9358 - val_accuracy: 0.1875\n",
            "Epoch 5/10\n",
            "18/18 [==============================] - 7s 367ms/step - loss: 1.8817 - accuracy: 0.2865 - val_loss: 1.8952 - val_accuracy: 0.2431\n",
            "Epoch 6/10\n",
            "18/18 [==============================] - 13s 719ms/step - loss: 1.9018 - accuracy: 0.2986 - val_loss: 1.9601 - val_accuracy: 0.1944\n",
            "Epoch 7/10\n",
            "18/18 [==============================] - 11s 571ms/step - loss: 1.8886 - accuracy: 0.2656 - val_loss: 1.9346 - val_accuracy: 0.2014\n",
            "Epoch 8/10\n",
            "18/18 [==============================] - ETA: 0s - loss: 1.8599 - accuracy: 0.2830"
          ]
        },
        {
          "output_type": "stream",
          "name": "stderr",
          "text": [
            "\u001b[34m\u001b[1mwandb\u001b[0m: Adding directory to artifact (/content/wandb/run-20240426_010922-1ju1y38m/files/model-best)... Done. 0.6s\n"
          ]
        },
        {
          "output_type": "stream",
          "name": "stdout",
          "text": [
            "\b\b\b\b\b\b\b\b\b\b\b\b\b\b\b\b\b\b\b\b\b\b\b\b\b\b\b\b\b\b\b\b\b\b\b\b\b\b\b\b\b\b\b\b\b\b\b\b\b\b\b\b\b\b\b\b\b\b\b\b\b\b\b\b\b\b\b\b\b\b\b\b\b\b\b\b\b\b\b\b\b\b\r18/18 [==============================] - 17s 955ms/step - loss: 1.8599 - accuracy: 0.2830 - val_loss: 1.8148 - val_accuracy: 0.2917\n",
            "Epoch 9/10\n",
            "18/18 [==============================] - 8s 464ms/step - loss: 1.8407 - accuracy: 0.2812 - val_loss: 1.8699 - val_accuracy: 0.2986\n",
            "Epoch 10/10\n",
            "18/18 [==============================] - 9s 485ms/step - loss: 1.7558 - accuracy: 0.2865 - val_loss: 1.8824 - val_accuracy: 0.2222\n",
            "6/6 [==============================] - 1s 84ms/step - loss: 1.7531 - accuracy: 0.2556\n",
            "CRNN Test accuracy: 0.25555557012557983\n"
          ]
        },
        {
          "output_type": "display_data",
          "data": {
            "text/plain": [
              "VBox(children=(Label(value='251.729 MB of 251.729 MB uploaded (0.050 MB deduped)\\r'), FloatProgress(value=1.0,…"
            ],
            "application/vnd.jupyter.widget-view+json": {
              "version_major": 2,
              "version_minor": 0,
              "model_id": "3936d5dd0a2a46019c645de7dd0b370d"
            }
          },
          "metadata": {}
        },
        {
          "output_type": "display_data",
          "data": {
            "text/plain": [
              "<IPython.core.display.HTML object>"
            ],
            "text/html": [
              "<style>\n",
              "    table.wandb td:nth-child(1) { padding: 0 10px; text-align: left ; width: auto;} td:nth-child(2) {text-align: left ; width: 100%}\n",
              "    .wandb-row { display: flex; flex-direction: row; flex-wrap: wrap; justify-content: flex-start; width: 100% }\n",
              "    .wandb-col { display: flex; flex-direction: column; flex-basis: 100%; flex: 1; padding: 10px; }\n",
              "    </style>\n",
              "<div class=\"wandb-row\"><div class=\"wandb-col\"><h3>Run history:</h3><br/><table class=\"wandb\"><tr><td>accuracy</td><td>▁▆▆▆▆█▃▆▅▆</td></tr><tr><td>epoch</td><td>▁▂▃▃▄▅▆▆▇█</td></tr><tr><td>loss</td><td>█▅▅▅▇█▇▆▅▁</td></tr><tr><td>test_accuracy</td><td>▁</td></tr><tr><td>test_loss</td><td>▁</td></tr><tr><td>val_accuracy</td><td>▂▄█▁▄▁▂▆▇▃</td></tr><tr><td>val_loss</td><td>▅▅▂▇▅█▇▁▄▄</td></tr></table><br/></div><div class=\"wandb-col\"><h3>Run summary:</h3><br/><table class=\"wandb\"><tr><td>accuracy</td><td>0.28646</td></tr><tr><td>best_epoch</td><td>7</td></tr><tr><td>best_val_loss</td><td>1.81478</td></tr><tr><td>epoch</td><td>9</td></tr><tr><td>loss</td><td>1.75582</td></tr><tr><td>test_accuracy</td><td>0.25556</td></tr><tr><td>test_loss</td><td>1.75313</td></tr><tr><td>val_accuracy</td><td>0.22222</td></tr><tr><td>val_loss</td><td>1.88236</td></tr></table><br/></div></div>"
            ]
          },
          "metadata": {}
        },
        {
          "output_type": "display_data",
          "data": {
            "text/plain": [
              "<IPython.core.display.HTML object>"
            ],
            "text/html": [
              " View run <strong style=\"color:#cdcd00\">morning-sponge-1</strong> at: <a href='https://wandb.ai/tianchengbu/865Project%20CRNN/runs/1ju1y38m' target=\"_blank\">https://wandb.ai/tianchengbu/865Project%20CRNN/runs/1ju1y38m</a><br/> View project at: <a href='https://wandb.ai/tianchengbu/865Project%20CRNN' target=\"_blank\">https://wandb.ai/tianchengbu/865Project%20CRNN</a><br/>Synced 5 W&B file(s), 1 media file(s), 15 artifact file(s) and 1 other file(s)"
            ]
          },
          "metadata": {}
        },
        {
          "output_type": "display_data",
          "data": {
            "text/plain": [
              "<IPython.core.display.HTML object>"
            ],
            "text/html": [
              "Find logs at: <code>./wandb/run-20240426_010922-1ju1y38m/logs</code>"
            ]
          },
          "metadata": {}
        },
        {
          "output_type": "display_data",
          "data": {
            "text/plain": [
              "<IPython.core.display.HTML object>"
            ],
            "text/html": [
              "Tracking run with wandb version 0.16.6"
            ]
          },
          "metadata": {}
        },
        {
          "output_type": "display_data",
          "data": {
            "text/plain": [
              "<IPython.core.display.HTML object>"
            ],
            "text/html": [
              "Run data is saved locally in <code>/content/wandb/run-20240426_011131-3oka5vay</code>"
            ]
          },
          "metadata": {}
        },
        {
          "output_type": "display_data",
          "data": {
            "text/plain": [
              "<IPython.core.display.HTML object>"
            ],
            "text/html": [
              "Syncing run <strong><a href='https://wandb.ai/tianchengbu/865Project%20CNN/runs/3oka5vay' target=\"_blank\">winter-armadillo-1</a></strong> to <a href='https://wandb.ai/tianchengbu/865Project%20CNN' target=\"_blank\">Weights & Biases</a> (<a href='https://wandb.me/run' target=\"_blank\">docs</a>)<br/>"
            ]
          },
          "metadata": {}
        },
        {
          "output_type": "display_data",
          "data": {
            "text/plain": [
              "<IPython.core.display.HTML object>"
            ],
            "text/html": [
              " View project at <a href='https://wandb.ai/tianchengbu/865Project%20CNN' target=\"_blank\">https://wandb.ai/tianchengbu/865Project%20CNN</a>"
            ]
          },
          "metadata": {}
        },
        {
          "output_type": "display_data",
          "data": {
            "text/plain": [
              "<IPython.core.display.HTML object>"
            ],
            "text/html": [
              " View run at <a href='https://wandb.ai/tianchengbu/865Project%20CNN/runs/3oka5vay' target=\"_blank\">https://wandb.ai/tianchengbu/865Project%20CNN/runs/3oka5vay</a>"
            ]
          },
          "metadata": {}
        },
        {
          "output_type": "stream",
          "name": "stdout",
          "text": [
            "Epoch 1/10\n",
            "18/18 [==============================] - ETA: 0s - loss: 0.0537 - accuracy: 0.9844"
          ]
        },
        {
          "output_type": "stream",
          "name": "stderr",
          "text": [
            "\u001b[34m\u001b[1mwandb\u001b[0m: Adding directory to artifact (/content/wandb/run-20240426_011131-3oka5vay/files/model-best)... Done. 0.1s\n"
          ]
        },
        {
          "output_type": "stream",
          "name": "stdout",
          "text": [
            "\b\b\b\b\b\b\b\b\b\b\b\b\b\b\b\b\b\b\b\b\b\b\b\b\b\b\b\b\b\b\b\b\b\b\b\b\b\b\b\b\b\b\b\b\b\b\b\b\b\b\b\b\b\b\b\b\b\b\b\b\b\b\b\b\b\b\b\b\b\b\b\b\b\b\b\b\b\b\b\b\b\b\r18/18 [==============================] - 8s 359ms/step - loss: 0.0537 - accuracy: 0.9844 - val_loss: 3.3430 - val_accuracy: 0.5278\n",
            "Epoch 2/10\n",
            "18/18 [==============================] - ETA: 0s - loss: 0.0409 - accuracy: 0.9844"
          ]
        },
        {
          "output_type": "stream",
          "name": "stderr",
          "text": [
            "\u001b[34m\u001b[1mwandb\u001b[0m: Adding directory to artifact (/content/wandb/run-20240426_011131-3oka5vay/files/model-best)... Done. 0.1s\n"
          ]
        },
        {
          "output_type": "stream",
          "name": "stdout",
          "text": [
            "\b\b\b\b\b\b\b\b\b\b\b\b\b\b\b\b\b\b\b\b\b\b\b\b\b\b\b\b\b\b\b\b\b\b\b\b\b\b\b\b\b\b\b\b\b\b\b\b\b\b\b\b\b\b\b\b\b\b\b\b\b\b\b\b\b\b\b\b\b\b\b\b\b\b\b\b\b\b\b\b\b\b\r18/18 [==============================] - 8s 430ms/step - loss: 0.0409 - accuracy: 0.9844 - val_loss: 3.1667 - val_accuracy: 0.4583\n",
            "Epoch 3/10\n",
            "18/18 [==============================] - 5s 267ms/step - loss: 0.0162 - accuracy: 0.9965 - val_loss: 3.4551 - val_accuracy: 0.5069\n",
            "Epoch 4/10\n",
            "18/18 [==============================] - 5s 266ms/step - loss: 0.0083 - accuracy: 0.9965 - val_loss: 4.0487 - val_accuracy: 0.5278\n",
            "Epoch 5/10\n",
            "18/18 [==============================] - 7s 384ms/step - loss: 0.0092 - accuracy: 0.9983 - val_loss: 3.6423 - val_accuracy: 0.4792\n",
            "Epoch 6/10\n",
            "18/18 [==============================] - 5s 263ms/step - loss: 0.0014 - accuracy: 1.0000 - val_loss: 3.5283 - val_accuracy: 0.5139\n",
            "Epoch 7/10\n",
            "18/18 [==============================] - 6s 316ms/step - loss: 1.4969e-04 - accuracy: 1.0000 - val_loss: 3.5982 - val_accuracy: 0.5347\n",
            "Epoch 8/10\n",
            "18/18 [==============================] - 6s 305ms/step - loss: 7.4877e-05 - accuracy: 1.0000 - val_loss: 3.6403 - val_accuracy: 0.5486\n",
            "Epoch 9/10\n",
            "18/18 [==============================] - 5s 270ms/step - loss: 4.7644e-05 - accuracy: 1.0000 - val_loss: 3.6740 - val_accuracy: 0.5486\n",
            "Epoch 10/10\n",
            "18/18 [==============================] - 7s 382ms/step - loss: 3.4043e-05 - accuracy: 1.0000 - val_loss: 3.7062 - val_accuracy: 0.5556\n",
            "6/6 [==============================] - 1s 123ms/step - loss: 2.9179 - accuracy: 0.5667\n",
            "CNN Test accuracy: 0.5666666626930237\n"
          ]
        },
        {
          "output_type": "display_data",
          "data": {
            "text/plain": [
              "VBox(children=(Label(value='41.268 MB of 41.268 MB uploaded (0.015 MB deduped)\\r'), FloatProgress(value=1.0, m…"
            ],
            "application/vnd.jupyter.widget-view+json": {
              "version_major": 2,
              "version_minor": 0,
              "model_id": "92c579672be444bea43a38967ecde36c"
            }
          },
          "metadata": {}
        },
        {
          "output_type": "display_data",
          "data": {
            "text/plain": [
              "<IPython.core.display.HTML object>"
            ],
            "text/html": [
              "<style>\n",
              "    table.wandb td:nth-child(1) { padding: 0 10px; text-align: left ; width: auto;} td:nth-child(2) {text-align: left ; width: 100%}\n",
              "    .wandb-row { display: flex; flex-direction: row; flex-wrap: wrap; justify-content: flex-start; width: 100% }\n",
              "    .wandb-col { display: flex; flex-direction: column; flex-basis: 100%; flex: 1; padding: 10px; }\n",
              "    </style>\n",
              "<div class=\"wandb-row\"><div class=\"wandb-col\"><h3>Run history:</h3><br/><table class=\"wandb\"><tr><td>accuracy</td><td>▁▁▆▆▇█████</td></tr><tr><td>epoch</td><td>▁▂▃▃▄▅▆▆▇█</td></tr><tr><td>loss</td><td>█▆▃▂▂▁▁▁▁▁</td></tr><tr><td>test_accuracy</td><td>▁</td></tr><tr><td>test_loss</td><td>▁</td></tr><tr><td>val_accuracy</td><td>▆▁▄▆▂▅▆▇▇█</td></tr><tr><td>val_loss</td><td>▂▁▃█▅▄▄▅▅▅</td></tr></table><br/></div><div class=\"wandb-col\"><h3>Run summary:</h3><br/><table class=\"wandb\"><tr><td>accuracy</td><td>1.0</td></tr><tr><td>best_epoch</td><td>1</td></tr><tr><td>best_val_loss</td><td>3.16674</td></tr><tr><td>epoch</td><td>9</td></tr><tr><td>loss</td><td>3e-05</td></tr><tr><td>test_accuracy</td><td>0.56667</td></tr><tr><td>test_loss</td><td>2.91794</td></tr><tr><td>val_accuracy</td><td>0.55556</td></tr><tr><td>val_loss</td><td>3.70623</td></tr></table><br/></div></div>"
            ]
          },
          "metadata": {}
        },
        {
          "output_type": "display_data",
          "data": {
            "text/plain": [
              "<IPython.core.display.HTML object>"
            ],
            "text/html": [
              " View run <strong style=\"color:#cdcd00\">winter-armadillo-1</strong> at: <a href='https://wandb.ai/tianchengbu/865Project%20CNN/runs/3oka5vay' target=\"_blank\">https://wandb.ai/tianchengbu/865Project%20CNN/runs/3oka5vay</a><br/> View project at: <a href='https://wandb.ai/tianchengbu/865Project%20CNN' target=\"_blank\">https://wandb.ai/tianchengbu/865Project%20CNN</a><br/>Synced 5 W&B file(s), 1 media file(s), 10 artifact file(s) and 1 other file(s)"
            ]
          },
          "metadata": {}
        },
        {
          "output_type": "display_data",
          "data": {
            "text/plain": [
              "<IPython.core.display.HTML object>"
            ],
            "text/html": [
              "Find logs at: <code>./wandb/run-20240426_011131-3oka5vay/logs</code>"
            ]
          },
          "metadata": {}
        }
      ]
    },
    {
      "cell_type": "code",
      "source": [
        "#VGG16\n",
        "import wandb\n",
        "from wandb.keras import WandbCallback\n",
        "\n",
        "enable_wandb = True\n",
        "if enable_wandb:\n",
        "    wandb.login()\n",
        "    wandb.init(project='865Project VGG16 Transfer',\n",
        "               config={\n",
        "                   'learning_rate': 0.001,\n",
        "                   'epochs': 10,\n",
        "                   'batch_size': 32,\n",
        "                   'architecture': 'VGG16 Transfer'\n",
        "               })\n",
        "\n",
        "\n",
        "transfer_model.compile(optimizer='adam', loss='categorical_crossentropy', metrics=['accuracy'])\n",
        "transfer_model.fit(X_train_rgb_resized, y_train_one_hot, epochs=10, batch_size=32, validation_split=0.2,\n",
        "                   callbacks=[WandbCallback() if enable_wandb else None])\n",
        "\n",
        "\n",
        "test_loss, test_acc = transfer_model.evaluate(X_test_rgb_resized, y_test_one_hot)\n",
        "print('VGG16 Transfer Test accuracy:', test_acc)\n",
        "\n",
        "if enable_wandb:\n",
        "    wandb.log({'test_loss': test_loss, 'test_accuracy': test_acc})\n",
        "    wandb.finish()\n",
        "\n"
      ],
      "metadata": {
        "colab": {
          "base_uri": "https://localhost:8080/",
          "height": 917,
          "referenced_widgets": [
            "8c07bdab94c14822a800e7c8518d293f",
            "acd8e8b9c62243aa9d7e3aea782e754b",
            "1486d3986e4740df8161002130e8db17",
            "8947cec0e8ae4a88a86ae3d018c8c228",
            "b7d5d1c9e4594c529c3752a06d32942f",
            "d114ad1aa67941869ca5cdc176d582f9",
            "5ea7bb44dcbc4ba7ba06aa2699f98d93",
            "a57e6d99006240c09928746f0c30599a"
          ]
        },
        "id": "6spa-1sQ5Om0",
        "outputId": "5734427a-4afc-40d5-f7be-33c6f002338e"
      },
      "execution_count": 47,
      "outputs": [
        {
          "output_type": "display_data",
          "data": {
            "text/plain": [
              "<IPython.core.display.HTML object>"
            ],
            "text/html": [
              "Tracking run with wandb version 0.16.6"
            ]
          },
          "metadata": {}
        },
        {
          "output_type": "display_data",
          "data": {
            "text/plain": [
              "<IPython.core.display.HTML object>"
            ],
            "text/html": [
              "Run data is saved locally in <code>/content/wandb/run-20240426_010141-11bweol2</code>"
            ]
          },
          "metadata": {}
        },
        {
          "output_type": "display_data",
          "data": {
            "text/plain": [
              "<IPython.core.display.HTML object>"
            ],
            "text/html": [
              "Syncing run <strong><a href='https://wandb.ai/tianchengbu/865Project%20VGG16%20Transfer/runs/11bweol2' target=\"_blank\">solar-sunset-1</a></strong> to <a href='https://wandb.ai/tianchengbu/865Project%20VGG16%20Transfer' target=\"_blank\">Weights & Biases</a> (<a href='https://wandb.me/run' target=\"_blank\">docs</a>)<br/>"
            ]
          },
          "metadata": {}
        },
        {
          "output_type": "display_data",
          "data": {
            "text/plain": [
              "<IPython.core.display.HTML object>"
            ],
            "text/html": [
              " View project at <a href='https://wandb.ai/tianchengbu/865Project%20VGG16%20Transfer' target=\"_blank\">https://wandb.ai/tianchengbu/865Project%20VGG16%20Transfer</a>"
            ]
          },
          "metadata": {}
        },
        {
          "output_type": "display_data",
          "data": {
            "text/plain": [
              "<IPython.core.display.HTML object>"
            ],
            "text/html": [
              " View run at <a href='https://wandb.ai/tianchengbu/865Project%20VGG16%20Transfer/runs/11bweol2' target=\"_blank\">https://wandb.ai/tianchengbu/865Project%20VGG16%20Transfer/runs/11bweol2</a>"
            ]
          },
          "metadata": {}
        },
        {
          "output_type": "stream",
          "name": "stdout",
          "text": [
            "Epoch 1/10\n",
            "18/18 [==============================] - ETA: 0s - loss: 2.1691 - accuracy: 0.4340"
          ]
        },
        {
          "output_type": "stream",
          "name": "stderr",
          "text": [
            "\u001b[34m\u001b[1mwandb\u001b[0m: Adding directory to artifact (/content/wandb/run-20240426_010141-11bweol2/files/model-best)... Done. 0.9s\n"
          ]
        },
        {
          "output_type": "stream",
          "name": "stdout",
          "text": [
            "\b\b\b\b\b\b\b\b\b\b\b\b\b\b\b\b\b\b\b\b\b\b\b\b\b\b\b\b\b\b\b\b\b\b\b\b\b\b\b\b\b\b\b\b\b\b\b\b\b\b\b\b\b\b\b\b\b\b\b\b\b\b\b\b\b\b\b\b\b\b\b\b\b\b\b\b\b\b\b\b\b\b\r18/18 [==============================] - 14s 734ms/step - loss: 2.1691 - accuracy: 0.4340 - val_loss: 2.3766 - val_accuracy: 0.3889\n",
            "Epoch 2/10\n",
            "18/18 [==============================] - ETA: 0s - loss: 1.5752 - accuracy: 0.5260"
          ]
        },
        {
          "output_type": "stream",
          "name": "stderr",
          "text": [
            "\u001b[34m\u001b[1mwandb\u001b[0m: Adding directory to artifact (/content/wandb/run-20240426_010141-11bweol2/files/model-best)... Done. 0.6s\n"
          ]
        },
        {
          "output_type": "stream",
          "name": "stdout",
          "text": [
            "\b\b\b\b\b\b\b\b\b\b\b\b\b\b\b\b\b\b\b\b\b\b\b\b\b\b\b\b\b\b\b\b\b\b\b\b\b\b\b\b\b\b\b\b\b\b\b\b\b\b\b\b\b\b\b\b\b\b\b\b\b\b\b\b\b\b\b\b\b\b\b\b\b\b\b\b\b\b\b\b\b\b\r18/18 [==============================] - 11s 629ms/step - loss: 1.5752 - accuracy: 0.5260 - val_loss: 2.0209 - val_accuracy: 0.3750\n",
            "Epoch 3/10\n",
            "18/18 [==============================] - 9s 495ms/step - loss: 1.3957 - accuracy: 0.5729 - val_loss: 2.1058 - val_accuracy: 0.4931\n",
            "Epoch 4/10\n",
            "18/18 [==============================] - ETA: 0s - loss: 1.3987 - accuracy: 0.5729"
          ]
        },
        {
          "output_type": "stream",
          "name": "stderr",
          "text": [
            "\u001b[34m\u001b[1mwandb\u001b[0m: Adding directory to artifact (/content/wandb/run-20240426_010141-11bweol2/files/model-best)... Done. 0.5s\n"
          ]
        },
        {
          "output_type": "stream",
          "name": "stdout",
          "text": [
            "\b\b\b\b\b\b\b\b\b\b\b\b\b\b\b\b\b\b\b\b\b\b\b\b\b\b\b\b\b\b\b\b\b\b\b\b\b\b\b\b\b\b\b\b\b\b\b\b\b\b\b\b\b\b\b\b\b\b\b\b\b\b\b\b\b\b\b\b\b\b\b\b\b\b\b\b\b\b\b\b\b\b\r18/18 [==============================] - 12s 701ms/step - loss: 1.3987 - accuracy: 0.5729 - val_loss: 1.7602 - val_accuracy: 0.4722\n",
            "Epoch 5/10\n",
            "18/18 [==============================] - 9s 485ms/step - loss: 1.1707 - accuracy: 0.5955 - val_loss: 1.9076 - val_accuracy: 0.4444\n",
            "Epoch 6/10\n",
            "18/18 [==============================] - 9s 517ms/step - loss: 1.3424 - accuracy: 0.5903 - val_loss: 2.3260 - val_accuracy: 0.3889\n",
            "Epoch 7/10\n",
            "18/18 [==============================] - 9s 517ms/step - loss: 1.2696 - accuracy: 0.5903 - val_loss: 1.8457 - val_accuracy: 0.4444\n",
            "Epoch 8/10\n",
            "18/18 [==============================] - 8s 479ms/step - loss: 1.1457 - accuracy: 0.6337 - val_loss: 1.9550 - val_accuracy: 0.4444\n",
            "Epoch 9/10\n",
            "18/18 [==============================] - 10s 543ms/step - loss: 0.9933 - accuracy: 0.6476 - val_loss: 1.9013 - val_accuracy: 0.4514\n",
            "Epoch 10/10\n",
            "18/18 [==============================] - 9s 500ms/step - loss: 1.0426 - accuracy: 0.6424 - val_loss: 2.0911 - val_accuracy: 0.3819\n",
            "6/6 [==============================] - 2s 290ms/step - loss: 2.1746 - accuracy: 0.4944\n",
            "VGG16 Transfer Test accuracy: 0.49444442987442017\n"
          ]
        },
        {
          "output_type": "display_data",
          "data": {
            "text/plain": [
              "VBox(children=(Label(value='171.763 MB of 171.763 MB uploaded (0.104 MB deduped)\\r'), FloatProgress(value=1.0,…"
            ],
            "application/vnd.jupyter.widget-view+json": {
              "version_major": 2,
              "version_minor": 0,
              "model_id": "8c07bdab94c14822a800e7c8518d293f"
            }
          },
          "metadata": {}
        },
        {
          "output_type": "display_data",
          "data": {
            "text/plain": [
              "<IPython.core.display.HTML object>"
            ],
            "text/html": [
              "<style>\n",
              "    table.wandb td:nth-child(1) { padding: 0 10px; text-align: left ; width: auto;} td:nth-child(2) {text-align: left ; width: 100%}\n",
              "    .wandb-row { display: flex; flex-direction: row; flex-wrap: wrap; justify-content: flex-start; width: 100% }\n",
              "    .wandb-col { display: flex; flex-direction: column; flex-basis: 100%; flex: 1; padding: 10px; }\n",
              "    </style>\n",
              "<div class=\"wandb-row\"><div class=\"wandb-col\"><h3>Run history:</h3><br/><table class=\"wandb\"><tr><td>accuracy</td><td>▁▄▆▆▆▆▆███</td></tr><tr><td>epoch</td><td>▁▂▃▃▄▅▆▆▇█</td></tr><tr><td>loss</td><td>█▄▃▃▂▃▃▂▁▁</td></tr><tr><td>test_accuracy</td><td>▁</td></tr><tr><td>test_loss</td><td>▁</td></tr><tr><td>val_accuracy</td><td>▂▁█▇▅▂▅▅▆▁</td></tr><tr><td>val_loss</td><td>█▄▅▁▃▇▂▃▃▅</td></tr></table><br/></div><div class=\"wandb-col\"><h3>Run summary:</h3><br/><table class=\"wandb\"><tr><td>accuracy</td><td>0.64236</td></tr><tr><td>best_epoch</td><td>3</td></tr><tr><td>best_val_loss</td><td>1.76016</td></tr><tr><td>epoch</td><td>9</td></tr><tr><td>loss</td><td>1.04257</td></tr><tr><td>test_accuracy</td><td>0.49444</td></tr><tr><td>test_loss</td><td>2.17458</td></tr><tr><td>val_accuracy</td><td>0.38194</td></tr><tr><td>val_loss</td><td>2.09109</td></tr></table><br/></div></div>"
            ]
          },
          "metadata": {}
        },
        {
          "output_type": "display_data",
          "data": {
            "text/plain": [
              "<IPython.core.display.HTML object>"
            ],
            "text/html": [
              " View run <strong style=\"color:#cdcd00\">solar-sunset-1</strong> at: <a href='https://wandb.ai/tianchengbu/865Project%20VGG16%20Transfer/runs/11bweol2' target=\"_blank\">https://wandb.ai/tianchengbu/865Project%20VGG16%20Transfer/runs/11bweol2</a><br/> View project at: <a href='https://wandb.ai/tianchengbu/865Project%20VGG16%20Transfer' target=\"_blank\">https://wandb.ai/tianchengbu/865Project%20VGG16%20Transfer</a><br/>Synced 5 W&B file(s), 1 media file(s), 15 artifact file(s) and 1 other file(s)"
            ]
          },
          "metadata": {}
        },
        {
          "output_type": "display_data",
          "data": {
            "text/plain": [
              "<IPython.core.display.HTML object>"
            ],
            "text/html": [
              "Find logs at: <code>./wandb/run-20240426_010141-11bweol2/logs</code>"
            ]
          },
          "metadata": {}
        }
      ]
    },
    {
      "cell_type": "code",
      "source": [
        "#LSTM\n",
        "from wandb.keras import WandbCallback\n",
        "if enable_wandb:\n",
        "  wandb.init(project = '865Project LSTM',\n",
        "             config = {'learning_rate' : learning_rate,\n",
        "                       'epochs' : epochs,\n",
        "                       'batch_size' : batch_size,\n",
        "                       'architecture': model_name})\n",
        "  lstm_model.fit(X_train, y_train_one_hot,\n",
        "              epochs=epochs,\n",
        "              batch_size=batch_size,\n",
        "              validation_split=0.2,\n",
        "              callbacks=[WandbCallback()])\n",
        "\n",
        "lstm_model.compile(optimizer='adam', loss='categorical_crossentropy', metrics=['accuracy'])\n",
        "lstm_model.fit(X_train, y_train_one_hot, epochs=epochs, batch_size=batch_size, validation_split=0.2)"
      ],
      "metadata": {
        "colab": {
          "base_uri": "https://localhost:8080/",
          "height": 974,
          "referenced_widgets": [
            "6eb0e82ba7334a09bddbe92a508db8d0",
            "06cf759df788444c8a7b5d5ea181f6fe",
            "f24bab014b1b4d48a20d8c8dff04b64a",
            "939a3725765446158ddb15695812577e",
            "16cafe0cb75e4b90888ec97299fcaaaa",
            "068a6992734f483aa9cec2eff3a17fae",
            "9e2aee79c89f4d32884d0edf4a4c7a30",
            "cae8311aac3a408a8ebafd3c681c4276"
          ]
        },
        "id": "g-JT7OUzvx2i",
        "outputId": "c02ef061-0834-4189-c3a2-77f497874d34"
      },
      "execution_count": null,
      "outputs": [
        {
          "output_type": "display_data",
          "data": {
            "text/plain": [
              "<IPython.core.display.HTML object>"
            ],
            "text/html": [
              "Finishing last run (ID:9stuta1u) before initializing another..."
            ]
          },
          "metadata": {}
        },
        {
          "output_type": "display_data",
          "data": {
            "text/plain": [
              "VBox(children=(Label(value='0.012 MB of 0.012 MB uploaded\\r'), FloatProgress(value=1.0, max=1.0)))"
            ],
            "application/vnd.jupyter.widget-view+json": {
              "version_major": 2,
              "version_minor": 0,
              "model_id": "6eb0e82ba7334a09bddbe92a508db8d0"
            }
          },
          "metadata": {}
        },
        {
          "output_type": "display_data",
          "data": {
            "text/plain": [
              "<IPython.core.display.HTML object>"
            ],
            "text/html": [
              " View run <strong style=\"color:#cdcd00\">pleasant-dew-1</strong> at: <a href='https://wandb.ai/tianchengbu/865Project%20LSTM/runs/9stuta1u' target=\"_blank\">https://wandb.ai/tianchengbu/865Project%20LSTM/runs/9stuta1u</a><br/> View project at: <a href='https://wandb.ai/tianchengbu/865Project%20LSTM' target=\"_blank\">https://wandb.ai/tianchengbu/865Project%20LSTM</a><br/>Synced 5 W&B file(s), 0 media file(s), 0 artifact file(s) and 0 other file(s)"
            ]
          },
          "metadata": {}
        },
        {
          "output_type": "display_data",
          "data": {
            "text/plain": [
              "<IPython.core.display.HTML object>"
            ],
            "text/html": [
              "Find logs at: <code>./wandb/run-20240425_145818-9stuta1u/logs</code>"
            ]
          },
          "metadata": {}
        },
        {
          "output_type": "display_data",
          "data": {
            "text/plain": [
              "<IPython.core.display.HTML object>"
            ],
            "text/html": [
              "Successfully finished last run (ID:9stuta1u). Initializing new run:<br/>"
            ]
          },
          "metadata": {}
        },
        {
          "output_type": "display_data",
          "data": {
            "text/plain": [
              "<IPython.core.display.HTML object>"
            ],
            "text/html": [
              "Tracking run with wandb version 0.16.6"
            ]
          },
          "metadata": {}
        },
        {
          "output_type": "display_data",
          "data": {
            "text/plain": [
              "<IPython.core.display.HTML object>"
            ],
            "text/html": [
              "Run data is saved locally in <code>/content/wandb/run-20240425_145923-sdnbbuz8</code>"
            ]
          },
          "metadata": {}
        },
        {
          "output_type": "display_data",
          "data": {
            "text/plain": [
              "<IPython.core.display.HTML object>"
            ],
            "text/html": [
              "Syncing run <strong><a href='https://wandb.ai/tianchengbu/865Project%20LSTM/runs/sdnbbuz8' target=\"_blank\">usual-deluge-2</a></strong> to <a href='https://wandb.ai/tianchengbu/865Project%20LSTM' target=\"_blank\">Weights & Biases</a> (<a href='https://wandb.me/run' target=\"_blank\">docs</a>)<br/>"
            ]
          },
          "metadata": {}
        },
        {
          "output_type": "display_data",
          "data": {
            "text/plain": [
              "<IPython.core.display.HTML object>"
            ],
            "text/html": [
              " View project at <a href='https://wandb.ai/tianchengbu/865Project%20LSTM' target=\"_blank\">https://wandb.ai/tianchengbu/865Project%20LSTM</a>"
            ]
          },
          "metadata": {}
        },
        {
          "output_type": "display_data",
          "data": {
            "text/plain": [
              "<IPython.core.display.HTML object>"
            ],
            "text/html": [
              " View run at <a href='https://wandb.ai/tianchengbu/865Project%20LSTM/runs/sdnbbuz8' target=\"_blank\">https://wandb.ai/tianchengbu/865Project%20LSTM/runs/sdnbbuz8</a>"
            ]
          },
          "metadata": {}
        },
        {
          "output_type": "stream",
          "name": "stderr",
          "text": [
            "\u001b[34m\u001b[1mwandb\u001b[0m: \u001b[33mWARNING\u001b[0m The save_model argument by default saves the model in the HDF5 format that cannot save custom objects like subclassed models and custom layers. This behavior will be deprecated in a future release in favor of the SavedModel format. Meanwhile, the HDF5 model is saved as W&B files and the SavedModel as W&B Artifacts.\n"
          ]
        },
        {
          "output_type": "stream",
          "name": "stdout",
          "text": [
            "Epoch 1/10\n",
            "18/18 [==============================] - ETA: 0s - loss: 0.0858 - accuracy: 0.9809"
          ]
        },
        {
          "output_type": "stream",
          "name": "stderr",
          "text": [
            "\u001b[34m\u001b[1mwandb\u001b[0m: Adding directory to artifact (/content/wandb/run-20240425_145923-sdnbbuz8/files/model-best)... Done. 0.1s\n"
          ]
        },
        {
          "output_type": "stream",
          "name": "stdout",
          "text": [
            "\b\b\b\b\b\b\b\b\b\b\b\b\b\b\b\b\b\b\b\b\b\b\b\b\b\b\b\b\b\b\b\b\b\b\b\b\b\b\b\b\b\b\b\b\b\b\b\b\b\b\b\b\b\b\b\b\b\b\b\b\b\b\b\b\b\b\b\b\b\b\b\b\b\b\b\b\b\b\b\b\b\b\r18/18 [==============================] - 10s 571ms/step - loss: 0.0858 - accuracy: 0.9809 - val_loss: 2.4155 - val_accuracy: 0.3681\n",
            "Epoch 2/10\n",
            "18/18 [==============================] - 2s 115ms/step - loss: 0.0525 - accuracy: 0.9931 - val_loss: 2.4447 - val_accuracy: 0.3681\n",
            "Epoch 3/10\n",
            "18/18 [==============================] - 1s 62ms/step - loss: 0.0197 - accuracy: 1.0000 - val_loss: 2.4714 - val_accuracy: 0.3611\n",
            "Epoch 4/10\n",
            "18/18 [==============================] - 1s 57ms/step - loss: 0.0102 - accuracy: 1.0000 - val_loss: 2.5455 - val_accuracy: 0.3681\n",
            "Epoch 5/10\n",
            "18/18 [==============================] - 1s 59ms/step - loss: 0.0059 - accuracy: 1.0000 - val_loss: 2.5823 - val_accuracy: 0.3542\n",
            "Epoch 6/10\n",
            "18/18 [==============================] - 1s 60ms/step - loss: 0.0041 - accuracy: 1.0000 - val_loss: 2.6172 - val_accuracy: 0.3264\n",
            "Epoch 7/10\n",
            "18/18 [==============================] - 1s 56ms/step - loss: 0.0033 - accuracy: 1.0000 - val_loss: 2.6525 - val_accuracy: 0.3194\n",
            "Epoch 8/10\n",
            "18/18 [==============================] - 1s 59ms/step - loss: 0.0028 - accuracy: 1.0000 - val_loss: 2.6771 - val_accuracy: 0.3264\n",
            "Epoch 9/10\n",
            "18/18 [==============================] - 1s 58ms/step - loss: 0.0025 - accuracy: 1.0000 - val_loss: 2.6969 - val_accuracy: 0.3264\n",
            "Epoch 10/10\n",
            "18/18 [==============================] - 1s 55ms/step - loss: 0.0022 - accuracy: 1.0000 - val_loss: 2.7167 - val_accuracy: 0.3264\n",
            "Epoch 1/10\n",
            "18/18 [==============================] - 8s 133ms/step - loss: 0.0385 - accuracy: 0.9948 - val_loss: 2.9703 - val_accuracy: 0.3611\n",
            "Epoch 2/10\n",
            "18/18 [==============================] - 1s 58ms/step - loss: 0.0346 - accuracy: 0.9931 - val_loss: 2.9722 - val_accuracy: 0.3750\n",
            "Epoch 3/10\n",
            "18/18 [==============================] - 1s 62ms/step - loss: 0.0581 - accuracy: 0.9844 - val_loss: 2.6873 - val_accuracy: 0.3681\n",
            "Epoch 4/10\n",
            "18/18 [==============================] - 1s 61ms/step - loss: 0.0838 - accuracy: 0.9722 - val_loss: 2.5855 - val_accuracy: 0.4028\n",
            "Epoch 5/10\n",
            "18/18 [==============================] - 1s 56ms/step - loss: 0.0464 - accuracy: 0.9896 - val_loss: 2.9135 - val_accuracy: 0.3958\n",
            "Epoch 6/10\n",
            "18/18 [==============================] - 1s 59ms/step - loss: 0.0130 - accuracy: 0.9983 - val_loss: 3.0543 - val_accuracy: 0.3958\n",
            "Epoch 7/10\n",
            "18/18 [==============================] - 1s 56ms/step - loss: 0.0177 - accuracy: 0.9965 - val_loss: 3.1226 - val_accuracy: 0.3819\n",
            "Epoch 8/10\n",
            "18/18 [==============================] - 1s 57ms/step - loss: 0.0240 - accuracy: 0.9931 - val_loss: 3.5586 - val_accuracy: 0.3681\n",
            "Epoch 9/10\n",
            "18/18 [==============================] - 1s 58ms/step - loss: 0.0321 - accuracy: 0.9878 - val_loss: 3.1657 - val_accuracy: 0.3958\n",
            "Epoch 10/10\n",
            "18/18 [==============================] - 2s 88ms/step - loss: 0.0739 - accuracy: 0.9809 - val_loss: 3.1659 - val_accuracy: 0.3958\n"
          ]
        },
        {
          "output_type": "execute_result",
          "data": {
            "text/plain": [
              "<keras.src.callbacks.History at 0x7ca9827b6fb0>"
            ]
          },
          "metadata": {},
          "execution_count": 17
        }
      ]
    },
    {
      "cell_type": "code",
      "source": [
        "#CNN\n",
        "from wandb.keras import WandbCallback\n",
        "if enable_wandb:\n",
        "  wandb.init(project = '865Project CNN',\n",
        "             config = {'learning_rate' : learning_rate,\n",
        "                       'epochs' : epochs,\n",
        "                       'batch_size' : batch_size,\n",
        "                       'architecture': model_name})\n",
        "  model.fit(X_train, y_train_one_hot,\n",
        "              epochs=epochs,\n",
        "              batch_size=batch_size,\n",
        "              validation_split=0.2,\n",
        "              callbacks=[WandbCallback()])\n",
        "\n",
        "model.compile(optimizer='adam', loss='categorical_crossentropy', metrics=['accuracy'])\n",
        "model.fit(X_train, y_train_one_hot, epochs=epochs, batch_size=batch_size, validation_split=0.2)"
      ],
      "metadata": {
        "colab": {
          "base_uri": "https://localhost:8080/",
          "height": 1000,
          "referenced_widgets": [
            "240ee663b9a7446490f8df68bdb2463c",
            "7cdf939d0882459f9ba47b95b7586b19",
            "d148dfe5dfbb460eb77d4caa920c2dae",
            "a515b5f0406e42b8a062e6bad8d7beb8",
            "444e915f80f6462498081e64c76c4f02",
            "daecf6a4c71143d983d1e1f6fddda09c",
            "263104ccfc6e4889aa715eb172e47f8c",
            "bb9e7a8ba7834f4284c2ee957d4b7f0f"
          ]
        },
        "id": "jfN7eZztPiL4",
        "outputId": "955c6b1d-9454-422a-c710-699d10f74185"
      },
      "execution_count": null,
      "outputs": [
        {
          "output_type": "display_data",
          "data": {
            "text/plain": [
              "<IPython.core.display.HTML object>"
            ],
            "text/html": [
              "Finishing last run (ID:sdnbbuz8) before initializing another..."
            ]
          },
          "metadata": {}
        },
        {
          "output_type": "display_data",
          "data": {
            "text/plain": [
              "VBox(children=(Label(value='14.270 MB of 14.270 MB uploaded\\r'), FloatProgress(value=1.0, max=1.0)))"
            ],
            "application/vnd.jupyter.widget-view+json": {
              "version_major": 2,
              "version_minor": 0,
              "model_id": "240ee663b9a7446490f8df68bdb2463c"
            }
          },
          "metadata": {}
        },
        {
          "output_type": "display_data",
          "data": {
            "text/plain": [
              "<IPython.core.display.HTML object>"
            ],
            "text/html": [
              "<style>\n",
              "    table.wandb td:nth-child(1) { padding: 0 10px; text-align: left ; width: auto;} td:nth-child(2) {text-align: left ; width: 100%}\n",
              "    .wandb-row { display: flex; flex-direction: row; flex-wrap: wrap; justify-content: flex-start; width: 100% }\n",
              "    .wandb-col { display: flex; flex-direction: column; flex-basis: 100%; flex: 1; padding: 10px; }\n",
              "    </style>\n",
              "<div class=\"wandb-row\"><div class=\"wandb-col\"><h3>Run history:</h3><br/><table class=\"wandb\"><tr><td>accuracy</td><td>▁▅████████</td></tr><tr><td>epoch</td><td>▁▂▃▃▄▅▆▆▇█</td></tr><tr><td>loss</td><td>█▅▂▂▁▁▁▁▁▁</td></tr><tr><td>val_accuracy</td><td>██▇█▆▂▁▂▂▂</td></tr><tr><td>val_loss</td><td>▁▂▂▄▅▆▇▇██</td></tr></table><br/></div><div class=\"wandb-col\"><h3>Run summary:</h3><br/><table class=\"wandb\"><tr><td>accuracy</td><td>1.0</td></tr><tr><td>best_epoch</td><td>0</td></tr><tr><td>best_val_loss</td><td>2.41548</td></tr><tr><td>epoch</td><td>9</td></tr><tr><td>loss</td><td>0.00219</td></tr><tr><td>val_accuracy</td><td>0.32639</td></tr><tr><td>val_loss</td><td>2.71671</td></tr></table><br/></div></div>"
            ]
          },
          "metadata": {}
        },
        {
          "output_type": "display_data",
          "data": {
            "text/plain": [
              "<IPython.core.display.HTML object>"
            ],
            "text/html": [
              " View run <strong style=\"color:#cdcd00\">usual-deluge-2</strong> at: <a href='https://wandb.ai/tianchengbu/865Project%20LSTM/runs/sdnbbuz8' target=\"_blank\">https://wandb.ai/tianchengbu/865Project%20LSTM/runs/sdnbbuz8</a><br/> View project at: <a href='https://wandb.ai/tianchengbu/865Project%20LSTM' target=\"_blank\">https://wandb.ai/tianchengbu/865Project%20LSTM</a><br/>Synced 5 W&B file(s), 1 media file(s), 5 artifact file(s) and 1 other file(s)"
            ]
          },
          "metadata": {}
        },
        {
          "output_type": "display_data",
          "data": {
            "text/plain": [
              "<IPython.core.display.HTML object>"
            ],
            "text/html": [
              "Find logs at: <code>./wandb/run-20240425_145923-sdnbbuz8/logs</code>"
            ]
          },
          "metadata": {}
        },
        {
          "output_type": "display_data",
          "data": {
            "text/plain": [
              "<IPython.core.display.HTML object>"
            ],
            "text/html": [
              "Successfully finished last run (ID:sdnbbuz8). Initializing new run:<br/>"
            ]
          },
          "metadata": {}
        },
        {
          "output_type": "display_data",
          "data": {
            "text/plain": [
              "<IPython.core.display.HTML object>"
            ],
            "text/html": [
              "Tracking run with wandb version 0.16.6"
            ]
          },
          "metadata": {}
        },
        {
          "output_type": "display_data",
          "data": {
            "text/plain": [
              "<IPython.core.display.HTML object>"
            ],
            "text/html": [
              "Run data is saved locally in <code>/content/wandb/run-20240425_150132-deletjm4</code>"
            ]
          },
          "metadata": {}
        },
        {
          "output_type": "display_data",
          "data": {
            "text/plain": [
              "<IPython.core.display.HTML object>"
            ],
            "text/html": [
              "Syncing run <strong><a href='https://wandb.ai/tianchengbu/865Project%20CNN/runs/deletjm4' target=\"_blank\">solar-glitter-1</a></strong> to <a href='https://wandb.ai/tianchengbu/865Project%20CNN' target=\"_blank\">Weights & Biases</a> (<a href='https://wandb.me/run' target=\"_blank\">docs</a>)<br/>"
            ]
          },
          "metadata": {}
        },
        {
          "output_type": "display_data",
          "data": {
            "text/plain": [
              "<IPython.core.display.HTML object>"
            ],
            "text/html": [
              " View project at <a href='https://wandb.ai/tianchengbu/865Project%20CNN' target=\"_blank\">https://wandb.ai/tianchengbu/865Project%20CNN</a>"
            ]
          },
          "metadata": {}
        },
        {
          "output_type": "display_data",
          "data": {
            "text/plain": [
              "<IPython.core.display.HTML object>"
            ],
            "text/html": [
              " View run at <a href='https://wandb.ai/tianchengbu/865Project%20CNN/runs/deletjm4' target=\"_blank\">https://wandb.ai/tianchengbu/865Project%20CNN/runs/deletjm4</a>"
            ]
          },
          "metadata": {}
        },
        {
          "output_type": "stream",
          "name": "stdout",
          "text": [
            "Epoch 1/10\n",
            "18/18 [==============================] - ETA: 0s - loss: 0.0013 - accuracy: 1.0000"
          ]
        },
        {
          "output_type": "stream",
          "name": "stderr",
          "text": [
            "\u001b[34m\u001b[1mwandb\u001b[0m: Adding directory to artifact (/content/wandb/run-20240425_150132-deletjm4/files/model-best)... Done. 0.1s\n"
          ]
        },
        {
          "output_type": "stream",
          "name": "stdout",
          "text": [
            "\b\b\b\b\b\b\b\b\b\b\b\b\b\b\b\b\b\b\b\b\b\b\b\b\b\b\b\b\b\b\b\b\b\b\b\b\b\b\b\b\b\b\b\b\b\b\b\b\b\b\b\b\b\b\b\b\b\b\b\b\b\b\b\b\b\b\b\b\b\b\b\b\b\b\b\b\b\b\b\b\b\b\r18/18 [==============================] - 8s 420ms/step - loss: 0.0013 - accuracy: 1.0000 - val_loss: 2.9935 - val_accuracy: 0.5139\n",
            "Epoch 2/10\n",
            "18/18 [==============================] - 7s 384ms/step - loss: 9.6401e-04 - accuracy: 1.0000 - val_loss: 3.0395 - val_accuracy: 0.5208\n",
            "Epoch 3/10\n",
            "18/18 [==============================] - 5s 283ms/step - loss: 7.7877e-04 - accuracy: 1.0000 - val_loss: 3.0923 - val_accuracy: 0.5139\n",
            "Epoch 4/10\n",
            "18/18 [==============================] - 5s 277ms/step - loss: 6.4621e-04 - accuracy: 1.0000 - val_loss: 3.1341 - val_accuracy: 0.5139\n",
            "Epoch 5/10\n",
            "18/18 [==============================] - 7s 392ms/step - loss: 5.4847e-04 - accuracy: 1.0000 - val_loss: 3.1515 - val_accuracy: 0.5139\n",
            "Epoch 6/10\n",
            "18/18 [==============================] - 5s 274ms/step - loss: 4.7252e-04 - accuracy: 1.0000 - val_loss: 3.1872 - val_accuracy: 0.5069\n",
            "Epoch 7/10\n",
            "18/18 [==============================] - 6s 340ms/step - loss: 4.1145e-04 - accuracy: 1.0000 - val_loss: 3.2171 - val_accuracy: 0.5069\n",
            "Epoch 8/10\n",
            "18/18 [==============================] - 6s 313ms/step - loss: 3.6571e-04 - accuracy: 1.0000 - val_loss: 3.2547 - val_accuracy: 0.5069\n",
            "Epoch 9/10\n",
            "18/18 [==============================] - 5s 296ms/step - loss: 3.2404e-04 - accuracy: 1.0000 - val_loss: 3.2695 - val_accuracy: 0.5069\n",
            "Epoch 10/10\n",
            "18/18 [==============================] - 7s 391ms/step - loss: 2.9151e-04 - accuracy: 1.0000 - val_loss: 3.2981 - val_accuracy: 0.5139\n",
            "Epoch 1/10\n",
            "18/18 [==============================] - 6s 308ms/step - loss: 0.0716 - accuracy: 0.9740 - val_loss: 4.0092 - val_accuracy: 0.3819\n",
            "Epoch 2/10\n",
            "18/18 [==============================] - 7s 396ms/step - loss: 0.0456 - accuracy: 0.9896 - val_loss: 3.1413 - val_accuracy: 0.5069\n",
            "Epoch 3/10\n",
            "18/18 [==============================] - 5s 304ms/step - loss: 0.0052 - accuracy: 1.0000 - val_loss: 3.0610 - val_accuracy: 0.5278\n",
            "Epoch 4/10\n",
            "18/18 [==============================] - 6s 313ms/step - loss: 0.0013 - accuracy: 1.0000 - val_loss: 3.1351 - val_accuracy: 0.5208\n",
            "Epoch 5/10\n",
            "18/18 [==============================] - 7s 362ms/step - loss: 0.0662 - accuracy: 0.9826 - val_loss: 3.2172 - val_accuracy: 0.4653\n",
            "Epoch 6/10\n",
            "18/18 [==============================] - 5s 286ms/step - loss: 0.0400 - accuracy: 0.9844 - val_loss: 3.2956 - val_accuracy: 0.4861\n",
            "Epoch 7/10\n",
            "18/18 [==============================] - 7s 407ms/step - loss: 0.0221 - accuracy: 0.9948 - val_loss: 4.2277 - val_accuracy: 0.4583\n",
            "Epoch 8/10\n",
            "18/18 [==============================] - 8s 473ms/step - loss: 0.0039 - accuracy: 1.0000 - val_loss: 3.8866 - val_accuracy: 0.4653\n",
            "Epoch 9/10\n",
            "18/18 [==============================] - 13s 752ms/step - loss: 0.0072 - accuracy: 0.9983 - val_loss: 3.8740 - val_accuracy: 0.5069\n",
            "Epoch 10/10\n",
            "18/18 [==============================] - 13s 724ms/step - loss: 0.0187 - accuracy: 0.9896 - val_loss: 4.6767 - val_accuracy: 0.4167\n"
          ]
        },
        {
          "output_type": "execute_result",
          "data": {
            "text/plain": [
              "<keras.src.callbacks.History at 0x7ca982bb7d60>"
            ]
          },
          "metadata": {},
          "execution_count": 18
        }
      ]
    },
    {
      "cell_type": "code",
      "source": [
        "#CRNN\n",
        "from wandb.keras import WandbCallback\n",
        "if enable_wandb:\n",
        "  wandb.init(project = '865Project CRNN',\n",
        "             config = {'learning_rate' : learning_rate,\n",
        "                       'epochs' : epochs,\n",
        "                       'batch_size' : batch_size,\n",
        "                       'architecture': model_name})\n",
        "  crnn_model.fit(X_train, y_train_one_hot,\n",
        "              epochs=epochs,\n",
        "              batch_size=batch_size,\n",
        "              validation_split=0.2,\n",
        "              callbacks=[WandbCallback()])\n",
        "\n",
        "crnn_model.compile(optimizer='adam', loss='categorical_crossentropy', metrics=['accuracy'])\n",
        "crnn_model.fit(X_train, y_train_one_hot, epochs=epochs, batch_size=batch_size, validation_split=0.2)"
      ],
      "metadata": {
        "colab": {
          "base_uri": "https://localhost:8080/",
          "height": 1000,
          "referenced_widgets": [
            "f13f6105070544a996553152376aac83",
            "eeef0a17b88c4008b45546dd88e09888",
            "ce22ce261e8b4e238683072873fbe414",
            "f1a2e5889ade4c24827ad1ef284f8ae8",
            "23e4a014fce64e7c99073d887d4c5763",
            "d8eef0d7f6844d72837ae7abc79a9b75",
            "72726ac96c4f4112a5a86d67e0c48ec7",
            "10dde6f7883548df8e93126f0c26e6f5"
          ]
        },
        "id": "gyVF8NFByHmL",
        "outputId": "aa95fb43-2116-4848-a849-b673894f0817"
      },
      "execution_count": null,
      "outputs": [
        {
          "output_type": "display_data",
          "data": {
            "text/plain": [
              "<IPython.core.display.HTML object>"
            ],
            "text/html": [
              "Finishing last run (ID:9o8pqwtm) before initializing another..."
            ]
          },
          "metadata": {}
        },
        {
          "output_type": "display_data",
          "data": {
            "text/plain": [
              "VBox(children=(Label(value='0.001 MB of 0.012 MB uploaded\\r'), FloatProgress(value=0.08629359286293593, max=1.…"
            ],
            "application/vnd.jupyter.widget-view+json": {
              "version_major": 2,
              "version_minor": 0,
              "model_id": "f13f6105070544a996553152376aac83"
            }
          },
          "metadata": {}
        },
        {
          "output_type": "display_data",
          "data": {
            "text/plain": [
              "<IPython.core.display.HTML object>"
            ],
            "text/html": [
              " View run <strong style=\"color:#cdcd00\">swept-water-1</strong> at: <a href='https://wandb.ai/tianchengbu/865Project%20CRNN/runs/9o8pqwtm' target=\"_blank\">https://wandb.ai/tianchengbu/865Project%20CRNN/runs/9o8pqwtm</a><br/> View project at: <a href='https://wandb.ai/tianchengbu/865Project%20CRNN' target=\"_blank\">https://wandb.ai/tianchengbu/865Project%20CRNN</a><br/>Synced 5 W&B file(s), 0 media file(s), 0 artifact file(s) and 0 other file(s)"
            ]
          },
          "metadata": {}
        },
        {
          "output_type": "display_data",
          "data": {
            "text/plain": [
              "<IPython.core.display.HTML object>"
            ],
            "text/html": [
              "Find logs at: <code>./wandb/run-20240425_150453-9o8pqwtm/logs</code>"
            ]
          },
          "metadata": {}
        },
        {
          "output_type": "display_data",
          "data": {
            "text/plain": [
              "<IPython.core.display.HTML object>"
            ],
            "text/html": [
              "Successfully finished last run (ID:9o8pqwtm). Initializing new run:<br/>"
            ]
          },
          "metadata": {}
        },
        {
          "output_type": "display_data",
          "data": {
            "text/plain": [
              "<IPython.core.display.HTML object>"
            ],
            "text/html": [
              "Tracking run with wandb version 0.16.6"
            ]
          },
          "metadata": {}
        },
        {
          "output_type": "display_data",
          "data": {
            "text/plain": [
              "<IPython.core.display.HTML object>"
            ],
            "text/html": [
              "Run data is saved locally in <code>/content/wandb/run-20240425_150746-gtg95i8v</code>"
            ]
          },
          "metadata": {}
        },
        {
          "output_type": "display_data",
          "data": {
            "text/plain": [
              "<IPython.core.display.HTML object>"
            ],
            "text/html": [
              "Syncing run <strong><a href='https://wandb.ai/tianchengbu/865Project%20CRNN/runs/gtg95i8v' target=\"_blank\">gentle-fire-2</a></strong> to <a href='https://wandb.ai/tianchengbu/865Project%20CRNN' target=\"_blank\">Weights & Biases</a> (<a href='https://wandb.me/run' target=\"_blank\">docs</a>)<br/>"
            ]
          },
          "metadata": {}
        },
        {
          "output_type": "display_data",
          "data": {
            "text/plain": [
              "<IPython.core.display.HTML object>"
            ],
            "text/html": [
              " View project at <a href='https://wandb.ai/tianchengbu/865Project%20CRNN' target=\"_blank\">https://wandb.ai/tianchengbu/865Project%20CRNN</a>"
            ]
          },
          "metadata": {}
        },
        {
          "output_type": "display_data",
          "data": {
            "text/plain": [
              "<IPython.core.display.HTML object>"
            ],
            "text/html": [
              " View run at <a href='https://wandb.ai/tianchengbu/865Project%20CRNN/runs/gtg95i8v' target=\"_blank\">https://wandb.ai/tianchengbu/865Project%20CRNN/runs/gtg95i8v</a>"
            ]
          },
          "metadata": {}
        },
        {
          "output_type": "stream",
          "name": "stdout",
          "text": [
            "Epoch 1/10\n",
            "18/18 [==============================] - ETA: 0s - loss: 2.0487 - accuracy: 0.2083"
          ]
        },
        {
          "output_type": "stream",
          "name": "stderr",
          "text": [
            "\u001b[34m\u001b[1mwandb\u001b[0m: Adding directory to artifact (/content/wandb/run-20240425_150746-gtg95i8v/files/model-best)... Done. 3.2s\n"
          ]
        },
        {
          "output_type": "stream",
          "name": "stdout",
          "text": [
            "\b\b\b\b\b\b\b\b\b\b\b\b\b\b\b\b\b\b\b\b\b\b\b\b\b\b\b\b\b\b\b\b\b\b\b\b\b\b\b\b\b\b\b\b\b\b\b\b\b\b\b\b\b\b\b\b\b\b\b\b\b\b\b\b\b\b\b\b\b\b\b\b\b\b\b\b\b\b\b\b\b\b\r18/18 [==============================] - 21s 1s/step - loss: 2.0487 - accuracy: 0.2083 - val_loss: 2.0403 - val_accuracy: 0.1250\n",
            "Epoch 2/10\n",
            "18/18 [==============================] - 12s 684ms/step - loss: 2.0734 - accuracy: 0.1788 - val_loss: 2.0437 - val_accuracy: 0.2083\n",
            "Epoch 3/10\n",
            "18/18 [==============================] - 8s 443ms/step - loss: 2.0891 - accuracy: 0.1875 - val_loss: 2.0917 - val_accuracy: 0.1944\n",
            "Epoch 4/10\n",
            "18/18 [==============================] - ETA: 0s - loss: 2.0098 - accuracy: 0.2222"
          ]
        },
        {
          "output_type": "stream",
          "name": "stderr",
          "text": [
            "\u001b[34m\u001b[1mwandb\u001b[0m: Adding directory to artifact (/content/wandb/run-20240425_150746-gtg95i8v/files/model-best)... Done. 0.6s\n"
          ]
        },
        {
          "output_type": "stream",
          "name": "stdout",
          "text": [
            "\b\b\b\b\b\b\b\b\b\b\b\b\b\b\b\b\b\b\b\b\b\b\b\b\b\b\b\b\b\b\b\b\b\b\b\b\b\b\b\b\b\b\b\b\b\b\b\b\b\b\b\b\b\b\b\b\b\b\b\b\b\b\b\b\b\b\b\b\b\b\b\b\b\b\b\b\b\b\b\b\b\b\r18/18 [==============================] - 17s 971ms/step - loss: 2.0098 - accuracy: 0.2222 - val_loss: 1.9928 - val_accuracy: 0.2292\n",
            "Epoch 5/10\n",
            "18/18 [==============================] - 7s 408ms/step - loss: 1.9837 - accuracy: 0.2205 - val_loss: 2.0043 - val_accuracy: 0.2222\n",
            "Epoch 6/10\n",
            "18/18 [==============================] - ETA: 0s - loss: 1.9749 - accuracy: 0.2222"
          ]
        },
        {
          "output_type": "stream",
          "name": "stderr",
          "text": [
            "\u001b[34m\u001b[1mwandb\u001b[0m: Adding directory to artifact (/content/wandb/run-20240425_150746-gtg95i8v/files/model-best)... Done. 0.8s\n"
          ]
        },
        {
          "output_type": "stream",
          "name": "stdout",
          "text": [
            "\b\b\b\b\b\b\b\b\b\b\b\b\b\b\b\b\b\b\b\b\b\b\b\b\b\b\b\b\b\b\b\b\b\b\b\b\b\b\b\b\b\b\b\b\b\b\b\b\b\b\b\b\b\b\b\b\b\b\b\b\b\b\b\b\b\b\b\b\b\b\b\b\b\b\b\b\b\b\b\b\b\b\r18/18 [==============================] - 18s 1s/step - loss: 1.9749 - accuracy: 0.2222 - val_loss: 1.9685 - val_accuracy: 0.1875\n",
            "Epoch 7/10\n",
            "18/18 [==============================] - ETA: 0s - loss: 1.9948 - accuracy: 0.2101"
          ]
        },
        {
          "output_type": "stream",
          "name": "stderr",
          "text": [
            "\u001b[34m\u001b[1mwandb\u001b[0m: Adding directory to artifact (/content/wandb/run-20240425_150746-gtg95i8v/files/model-best)... Done. 0.6s\n"
          ]
        },
        {
          "output_type": "stream",
          "name": "stdout",
          "text": [
            "\b\b\b\b\b\b\b\b\b\b\b\b\b\b\b\b\b\b\b\b\b\b\b\b\b\b\b\b\b\b\b\b\b\b\b\b\b\b\b\b\b\b\b\b\b\b\b\b\b\b\b\b\b\b\b\b\b\b\b\b\b\b\b\b\b\b\b\b\b\b\b\b\b\b\b\b\b\b\b\b\b\b\r18/18 [==============================] - 19s 1s/step - loss: 1.9948 - accuracy: 0.2101 - val_loss: 1.9378 - val_accuracy: 0.2292\n",
            "Epoch 8/10\n",
            "18/18 [==============================] - 7s 408ms/step - loss: 2.0029 - accuracy: 0.2326 - val_loss: 1.9887 - val_accuracy: 0.2014\n",
            "Epoch 9/10\n",
            "18/18 [==============================] - 9s 489ms/step - loss: 2.0213 - accuracy: 0.2031 - val_loss: 2.0513 - val_accuracy: 0.1250\n",
            "Epoch 10/10\n",
            "18/18 [==============================] - 8s 471ms/step - loss: 2.0242 - accuracy: 0.1910 - val_loss: 2.0127 - val_accuracy: 0.1806\n",
            "Epoch 1/10\n",
            "18/18 [==============================] - 25s 785ms/step - loss: 2.0092 - accuracy: 0.2205 - val_loss: 2.0317 - val_accuracy: 0.2014\n",
            "Epoch 2/10\n",
            "18/18 [==============================] - 14s 770ms/step - loss: 1.9738 - accuracy: 0.2240 - val_loss: 1.9722 - val_accuracy: 0.2569\n",
            "Epoch 3/10\n",
            "18/18 [==============================] - 9s 509ms/step - loss: 1.9719 - accuracy: 0.2378 - val_loss: 1.9769 - val_accuracy: 0.2222\n",
            "Epoch 4/10\n",
            "18/18 [==============================] - 7s 400ms/step - loss: 1.9832 - accuracy: 0.2448 - val_loss: 1.9835 - val_accuracy: 0.2222\n",
            "Epoch 5/10\n",
            "18/18 [==============================] - 8s 459ms/step - loss: 1.9645 - accuracy: 0.2292 - val_loss: 1.9782 - val_accuracy: 0.2222\n",
            "Epoch 6/10\n",
            "18/18 [==============================] - 8s 473ms/step - loss: 1.9514 - accuracy: 0.2622 - val_loss: 2.0106 - val_accuracy: 0.1736\n",
            "Epoch 7/10\n",
            "18/18 [==============================] - 7s 386ms/step - loss: 1.9331 - accuracy: 0.2917 - val_loss: 2.0037 - val_accuracy: 0.1944\n",
            "Epoch 8/10\n",
            "18/18 [==============================] - 9s 516ms/step - loss: 1.9231 - accuracy: 0.2535 - val_loss: 1.9693 - val_accuracy: 0.1944\n",
            "Epoch 9/10\n",
            "18/18 [==============================] - 7s 390ms/step - loss: 1.9145 - accuracy: 0.2500 - val_loss: 1.9015 - val_accuracy: 0.2500\n",
            "Epoch 10/10\n",
            "18/18 [==============================] - 9s 497ms/step - loss: 1.9625 - accuracy: 0.2431 - val_loss: 2.0503 - val_accuracy: 0.1528\n"
          ]
        },
        {
          "output_type": "execute_result",
          "data": {
            "text/plain": [
              "<keras.src.callbacks.History at 0x7ca973b2cdc0>"
            ]
          },
          "metadata": {},
          "execution_count": 21
        }
      ]
    },
    {
      "cell_type": "markdown",
      "source": [
        "### input audio recorded into model and classify"
      ],
      "metadata": {
        "id": "OLPXvxkx4Vej"
      }
    },
    {
      "cell_type": "code",
      "source": [
        "from google.colab import files\n",
        "\n",
        "uploaded = files.upload()\n",
        "for filename in uploaded.keys():\n",
        "    print('User uploaded file \"{name}\" with length {length} bytes'.format(\n",
        "        name=filename, length=len(uploaded[filename])))\n"
      ],
      "metadata": {
        "colab": {
          "base_uri": "https://localhost:8080/",
          "height": 90
        },
        "id": "e0HDDUFqE3Yq",
        "outputId": "12ec786c-87f4-4bd6-9418-f5fe373c6e85"
      },
      "execution_count": 57,
      "outputs": [
        {
          "output_type": "display_data",
          "data": {
            "text/plain": [
              "<IPython.core.display.HTML object>"
            ],
            "text/html": [
              "\n",
              "     <input type=\"file\" id=\"files-1cff79ff-716d-4239-ace7-bea0d364902f\" name=\"files[]\" multiple disabled\n",
              "        style=\"border:none\" />\n",
              "     <output id=\"result-1cff79ff-716d-4239-ace7-bea0d364902f\">\n",
              "      Upload widget is only available when the cell has been executed in the\n",
              "      current browser session. Please rerun this cell to enable.\n",
              "      </output>\n",
              "      <script>// Copyright 2017 Google LLC\n",
              "//\n",
              "// Licensed under the Apache License, Version 2.0 (the \"License\");\n",
              "// you may not use this file except in compliance with the License.\n",
              "// You may obtain a copy of the License at\n",
              "//\n",
              "//      http://www.apache.org/licenses/LICENSE-2.0\n",
              "//\n",
              "// Unless required by applicable law or agreed to in writing, software\n",
              "// distributed under the License is distributed on an \"AS IS\" BASIS,\n",
              "// WITHOUT WARRANTIES OR CONDITIONS OF ANY KIND, either express or implied.\n",
              "// See the License for the specific language governing permissions and\n",
              "// limitations under the License.\n",
              "\n",
              "/**\n",
              " * @fileoverview Helpers for google.colab Python module.\n",
              " */\n",
              "(function(scope) {\n",
              "function span(text, styleAttributes = {}) {\n",
              "  const element = document.createElement('span');\n",
              "  element.textContent = text;\n",
              "  for (const key of Object.keys(styleAttributes)) {\n",
              "    element.style[key] = styleAttributes[key];\n",
              "  }\n",
              "  return element;\n",
              "}\n",
              "\n",
              "// Max number of bytes which will be uploaded at a time.\n",
              "const MAX_PAYLOAD_SIZE = 100 * 1024;\n",
              "\n",
              "function _uploadFiles(inputId, outputId) {\n",
              "  const steps = uploadFilesStep(inputId, outputId);\n",
              "  const outputElement = document.getElementById(outputId);\n",
              "  // Cache steps on the outputElement to make it available for the next call\n",
              "  // to uploadFilesContinue from Python.\n",
              "  outputElement.steps = steps;\n",
              "\n",
              "  return _uploadFilesContinue(outputId);\n",
              "}\n",
              "\n",
              "// This is roughly an async generator (not supported in the browser yet),\n",
              "// where there are multiple asynchronous steps and the Python side is going\n",
              "// to poll for completion of each step.\n",
              "// This uses a Promise to block the python side on completion of each step,\n",
              "// then passes the result of the previous step as the input to the next step.\n",
              "function _uploadFilesContinue(outputId) {\n",
              "  const outputElement = document.getElementById(outputId);\n",
              "  const steps = outputElement.steps;\n",
              "\n",
              "  const next = steps.next(outputElement.lastPromiseValue);\n",
              "  return Promise.resolve(next.value.promise).then((value) => {\n",
              "    // Cache the last promise value to make it available to the next\n",
              "    // step of the generator.\n",
              "    outputElement.lastPromiseValue = value;\n",
              "    return next.value.response;\n",
              "  });\n",
              "}\n",
              "\n",
              "/**\n",
              " * Generator function which is called between each async step of the upload\n",
              " * process.\n",
              " * @param {string} inputId Element ID of the input file picker element.\n",
              " * @param {string} outputId Element ID of the output display.\n",
              " * @return {!Iterable<!Object>} Iterable of next steps.\n",
              " */\n",
              "function* uploadFilesStep(inputId, outputId) {\n",
              "  const inputElement = document.getElementById(inputId);\n",
              "  inputElement.disabled = false;\n",
              "\n",
              "  const outputElement = document.getElementById(outputId);\n",
              "  outputElement.innerHTML = '';\n",
              "\n",
              "  const pickedPromise = new Promise((resolve) => {\n",
              "    inputElement.addEventListener('change', (e) => {\n",
              "      resolve(e.target.files);\n",
              "    });\n",
              "  });\n",
              "\n",
              "  const cancel = document.createElement('button');\n",
              "  inputElement.parentElement.appendChild(cancel);\n",
              "  cancel.textContent = 'Cancel upload';\n",
              "  const cancelPromise = new Promise((resolve) => {\n",
              "    cancel.onclick = () => {\n",
              "      resolve(null);\n",
              "    };\n",
              "  });\n",
              "\n",
              "  // Wait for the user to pick the files.\n",
              "  const files = yield {\n",
              "    promise: Promise.race([pickedPromise, cancelPromise]),\n",
              "    response: {\n",
              "      action: 'starting',\n",
              "    }\n",
              "  };\n",
              "\n",
              "  cancel.remove();\n",
              "\n",
              "  // Disable the input element since further picks are not allowed.\n",
              "  inputElement.disabled = true;\n",
              "\n",
              "  if (!files) {\n",
              "    return {\n",
              "      response: {\n",
              "        action: 'complete',\n",
              "      }\n",
              "    };\n",
              "  }\n",
              "\n",
              "  for (const file of files) {\n",
              "    const li = document.createElement('li');\n",
              "    li.append(span(file.name, {fontWeight: 'bold'}));\n",
              "    li.append(span(\n",
              "        `(${file.type || 'n/a'}) - ${file.size} bytes, ` +\n",
              "        `last modified: ${\n",
              "            file.lastModifiedDate ? file.lastModifiedDate.toLocaleDateString() :\n",
              "                                    'n/a'} - `));\n",
              "    const percent = span('0% done');\n",
              "    li.appendChild(percent);\n",
              "\n",
              "    outputElement.appendChild(li);\n",
              "\n",
              "    const fileDataPromise = new Promise((resolve) => {\n",
              "      const reader = new FileReader();\n",
              "      reader.onload = (e) => {\n",
              "        resolve(e.target.result);\n",
              "      };\n",
              "      reader.readAsArrayBuffer(file);\n",
              "    });\n",
              "    // Wait for the data to be ready.\n",
              "    let fileData = yield {\n",
              "      promise: fileDataPromise,\n",
              "      response: {\n",
              "        action: 'continue',\n",
              "      }\n",
              "    };\n",
              "\n",
              "    // Use a chunked sending to avoid message size limits. See b/62115660.\n",
              "    let position = 0;\n",
              "    do {\n",
              "      const length = Math.min(fileData.byteLength - position, MAX_PAYLOAD_SIZE);\n",
              "      const chunk = new Uint8Array(fileData, position, length);\n",
              "      position += length;\n",
              "\n",
              "      const base64 = btoa(String.fromCharCode.apply(null, chunk));\n",
              "      yield {\n",
              "        response: {\n",
              "          action: 'append',\n",
              "          file: file.name,\n",
              "          data: base64,\n",
              "        },\n",
              "      };\n",
              "\n",
              "      let percentDone = fileData.byteLength === 0 ?\n",
              "          100 :\n",
              "          Math.round((position / fileData.byteLength) * 100);\n",
              "      percent.textContent = `${percentDone}% done`;\n",
              "\n",
              "    } while (position < fileData.byteLength);\n",
              "  }\n",
              "\n",
              "  // All done.\n",
              "  yield {\n",
              "    response: {\n",
              "      action: 'complete',\n",
              "    }\n",
              "  };\n",
              "}\n",
              "\n",
              "scope.google = scope.google || {};\n",
              "scope.google.colab = scope.google.colab || {};\n",
              "scope.google.colab._files = {\n",
              "  _uploadFiles,\n",
              "  _uploadFilesContinue,\n",
              "};\n",
              "})(self);\n",
              "</script> "
            ]
          },
          "metadata": {}
        },
        {
          "output_type": "stream",
          "name": "stdout",
          "text": [
            "Saving common_voice_en_38220472.mp3 to common_voice_en_38220472.mp3\n",
            "User uploaded file \"common_voice_en_38220472.mp3\" with length 54261 bytes\n"
          ]
        }
      ]
    },
    {
      "cell_type": "code",
      "source": [
        "file_path = next(iter(uploaded))\n",
        "audio_data = process_audio(file_path)"
      ],
      "metadata": {
        "id": "8UWVdfcpE7Be"
      },
      "execution_count": 58,
      "outputs": []
    },
    {
      "cell_type": "code",
      "source": [
        "if 'mfccs' in audio_data:\n",
        "    prediction = model.predict(np.expand_dims(audio_data['mfccs'], axis=0))\n",
        "    predicted_label = label_encoder.inverse_transform([np.argmax(prediction)])\n",
        "    print(\"Predicted Label:\", predicted_label)\n",
        "else:\n",
        "    print(\"Failed to process prediction.\")\n",
        "#classify the audio by using the upload cell before"
      ],
      "metadata": {
        "colab": {
          "base_uri": "https://localhost:8080/"
        },
        "id": "9U7tEtaIE-Kr",
        "outputId": "a536ea04-7d69-4dd4-fa9e-913872026889"
      },
      "execution_count": 59,
      "outputs": [
        {
          "output_type": "stream",
          "name": "stdout",
          "text": [
            "1/1 [==============================] - 0s 139ms/step\n",
            "Predicted Label: ['English']\n"
          ]
        }
      ]
    }
  ]
}