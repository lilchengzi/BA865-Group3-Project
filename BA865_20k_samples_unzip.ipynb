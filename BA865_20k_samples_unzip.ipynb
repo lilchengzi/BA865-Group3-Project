{
 "cells": [
  {
   "cell_type": "code",
   "execution_count": 1,
   "id": "84e64a19",
   "metadata": {},
   "outputs": [
    {
     "name": "stdout",
     "output_type": "stream",
     "text": [
      "Extracted russian.zip into /projectnb/ba865/students/wym1205/dataset/russian\n",
      "Extracted japanese.zip into /projectnb/ba865/students/wym1205/dataset/japanese\n",
      "Extracted chinese.zip into /projectnb/ba865/students/wym1205/dataset/chinese\n",
      "Extracted english.zip into /projectnb/ba865/students/wym1205/dataset/english\n",
      "Extracted french.zip into /projectnb/ba865/students/wym1205/dataset/french\n",
      "Extracted arabic.zip into /projectnb/ba865/students/wym1205/dataset/arabic\n",
      "Extracted german.zip into /projectnb/ba865/students/wym1205/dataset/german\n",
      "Extracted thai.zip into /projectnb/ba865/students/wym1205/dataset/thai\n",
      "Extracted spanish.zip into /projectnb/ba865/students/wym1205/dataset/spanish\n",
      "All files have been extracted.\n"
     ]
    }
   ],
   "source": [
    "import zipfile\n",
    "import os\n",
    "\n",
    "# specify path to zip files and path to store unzipped data\n",
    "zip_folder_path = '/projectnb/ba865/students/wym1205/dataset_zip'\n",
    "output_folder_path = '/projectnb/ba865/students/wym1205/dataset'\n",
    "\n",
    "zip_files = [f for f in os.listdir(zip_folder_path) if f.endswith('.zip')]\n",
    "\n",
    "# loop that unzips zipped files one at a time\n",
    "for zip_file in zip_files:\n",
    "    zip_file_path = os.path.join(zip_folder_path, zip_file)\n",
    "    zip_output_path = os.path.join(output_folder_path, zip_file[:-4])\n",
    "    \n",
    "    if not os.path.exists(zip_output_path):\n",
    "        os.makedirs(zip_output_path)\n",
    "\n",
    "    # extracts MP3 from zipped file\n",
    "    with zipfile.ZipFile(zip_file_path, 'r') as zip_ref:\n",
    "        zip_ref.extractall(zip_output_path)\n",
    "\n",
    "    # tracks progress\n",
    "    print(f\"Extracted {zip_file} into {zip_output_path}\")\n",
    "\n",
    "# inform us that the job is complete\n",
    "print(\"All files have been extracted.\")"
   ]
  }
 ],
 "metadata": {
  "kernelspec": {
   "display_name": "Python 3 (ipykernel)",
   "language": "python",
   "name": "python3"
  },
  "language_info": {
   "codemirror_mode": {
    "name": "ipython",
    "version": 3
   },
   "file_extension": ".py",
   "mimetype": "text/x-python",
   "name": "python",
   "nbconvert_exporter": "python",
   "pygments_lexer": "ipython3",
   "version": "3.11.7"
  }
 },
 "nbformat": 4,
 "nbformat_minor": 5
}
